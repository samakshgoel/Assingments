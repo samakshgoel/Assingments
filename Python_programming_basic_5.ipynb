{
 "cells": [
  {
   "cell_type": "code",
   "execution_count": 3,
   "metadata": {},
   "outputs": [
    {
     "name": "stdout",
     "output_type": "stream",
     "text": [
      "Enter the number: 96\n",
      "Enter the number: 94\n",
      "LCM of 96 and 94 is 4512\n"
     ]
    }
   ],
   "source": [
    "#1. Write a Python Program to Find LCM?\n",
    "a = int(input(\"Enter the number: \"))\n",
    "b = int(input(\"Enter the number: \"))\n",
    "\n",
    "if a>b:\n",
    "    greater = a\n",
    "else:\n",
    "    greater = b\n",
    "while(True):\n",
    "    if greater%a ==0 and greater%b==0:\n",
    "        lcm = greater\n",
    "        break\n",
    "    greater = greater+1\n",
    "print(\"LCM of {} and {} is {}\".format(a,b,lcm))"
   ]
  },
  {
   "cell_type": "code",
   "execution_count": 7,
   "metadata": {},
   "outputs": [
    {
     "name": "stdout",
     "output_type": "stream",
     "text": [
      "Enter the number: 2\n",
      "Enter the number: 8\n",
      "HCF of 2 and 8 is 2\n"
     ]
    }
   ],
   "source": [
    "#2. Write a Python Program to Find HCF?\n",
    "a = int(input(\"Enter the number: \"))\n",
    "b = int(input(\"Enter the number: \"))\n",
    "\n",
    "if a<b:\n",
    "    smaller = a\n",
    "else:\n",
    "    smaller = b\n",
    "\n",
    "for i in range(1,smaller+1):\n",
    "    if a%i==0 and b%i==0:\n",
    "        hcf = i\n",
    "print(\"HCF of {} and {} is {}\".format(a,b,hcf))    "
   ]
  },
  {
   "cell_type": "code",
   "execution_count": 10,
   "metadata": {},
   "outputs": [
    {
     "name": "stdout",
     "output_type": "stream",
     "text": [
      "Enter the number you want to convert: 45\n",
      "Number in binary form is : 101101\n",
      "Number in octal form is : 55\n",
      "Number in hexadecimal form is : 2d\n"
     ]
    }
   ],
   "source": [
    "#3. Write a Python Program to Convert Decimal to Binary, Octal and Hexadecimal?\n",
    "num = int(input(\"Enter the number you want to convert: \"))\n",
    "print(\"Number in binary form is :\",bin(num).replace(\"0b\",\"\"))\n",
    "print(\"Number in octal form is :\",oct(num).replace(\"0o\",\"\"))\n",
    "print(\"Number in hexadecimal form is :\",hex(num).replace(\"0x\",\"\"))"
   ]
  },
  {
   "cell_type": "code",
   "execution_count": 13,
   "metadata": {},
   "outputs": [
    {
     "name": "stdout",
     "output_type": "stream",
     "text": [
      "Enter the number you want to convert: S\n",
      "ASCII value of a character S is 83\n"
     ]
    }
   ],
   "source": [
    "#4. Write a Python Program To Find ASCII value of a character?\n",
    "character = input(\"Enter the number you want to convert: \")\n",
    "print(\"ASCII value of a character {} is {}\".format(character,ord(character)))"
   ]
  },
  {
   "cell_type": "code",
   "execution_count": 15,
   "metadata": {},
   "outputs": [
    {
     "name": "stdout",
     "output_type": "stream",
     "text": [
      "Enter the number: 57\n",
      "Enter the number: 12\n",
      "Enter the operator: \n",
      " Add = + \n",
      " Sub = - \n",
      " Multiply = * \n",
      " Divide = /\n",
      "*\n",
      "Multiplication of 57 and 12 is 684\n"
     ]
    }
   ],
   "source": [
    "#5. Write a Python Program to Make a Simple Calculator with 4 basic mathematical operations?\n",
    "a = int(input(\"Enter the number: \"))\n",
    "b = int(input(\"Enter the number: \"))\n",
    "c = input(\"Enter the operator: \\n Add = + \\n Sub = - \\n Multiply = * \\n Divide = /\\n\")\n",
    "\n",
    "if c==\"+\":\n",
    "    print(\"Addition of {} and {} is {}\".format(a,b,a+b))\n",
    "elif c==\"-\":\n",
    "     print(\"Subraction of {} and {} is {}\".format(a,b,a-b))\n",
    "elif c==\"*\":\n",
    "     print(\"Multiplication of {} and {} is {}\".format(a,b,a*b))\n",
    "elif c==\"/\":\n",
    "     print(\"Division of {} and {} is {}\".format(a,b,a/b))  \n",
    "else:\n",
    "    print(\"Enter a vaild operator\")\n"
   ]
  },
  {
   "cell_type": "code",
   "execution_count": null,
   "metadata": {},
   "outputs": [],
   "source": []
  }
 ],
 "metadata": {
  "kernelspec": {
   "display_name": "Python 3",
   "language": "python",
   "name": "python3"
  },
  "language_info": {
   "codemirror_mode": {
    "name": "ipython",
    "version": 3
   },
   "file_extension": ".py",
   "mimetype": "text/x-python",
   "name": "python",
   "nbconvert_exporter": "python",
   "pygments_lexer": "ipython3",
   "version": "3.8.5"
  }
 },
 "nbformat": 4,
 "nbformat_minor": 4
}
