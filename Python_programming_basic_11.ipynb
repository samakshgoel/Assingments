{
 "cells": [
  {
   "cell_type": "code",
   "execution_count": 1,
   "metadata": {},
   "outputs": [
    {
     "name": "stdout",
     "output_type": "stream",
     "text": [
      "Enter the word: samaksh goel\n",
      "Enter the length of the word: 10\n",
      "lenght of samaksh goel is greater than given length of 10\n"
     ]
    }
   ],
   "source": [
    "#1. Write a Python program to find words which are greater than given length k?\n",
    "user_word = input(\"Enter the word: \")\n",
    "k = int(input(\"Enter the length of the word: \"))\n",
    "def fun(word,length):\n",
    "    if len(user_word)>k:\n",
    "        print(\"lenght of {} is greater than given length of {}\".format(word,length))\n",
    "fun(user_word,k)  "
   ]
  },
  {
   "cell_type": "code",
   "execution_count": 2,
   "metadata": {},
   "outputs": [
    {
     "name": "stdout",
     "output_type": "stream",
     "text": [
      "Enter the word: samakshgoel\n",
      "Enter the character 4\n",
      "samashgoel\n"
     ]
    }
   ],
   "source": [
    "#2. Write a Python program for removing i-th character from a string?\n",
    "user_word = input(\"Enter the word: \")\n",
    "user_char_pos = int(input(\"Enter the character \"))\n",
    "result_str=\"\"\n",
    "for i in range(0,len(user_word)):\n",
    "    if i != user_char_pos:\n",
    "        result_str = result_str +user_word[i]\n",
    "print(result_str)"
   ]
  },
  {
   "cell_type": "code",
   "execution_count": 3,
   "metadata": {},
   "outputs": [
    {
     "name": "stdout",
     "output_type": "stream",
     "text": [
      "Enter the word: samaksh\n",
      "Enter the charm\n",
      "after splitinfg the string ['sa', 'aksh']\n",
      "Enter first String   :: 124\n",
      "Enter second String  :: sam\n",
      "After joining of two string  1sam2sam4\n"
     ]
    }
   ],
   "source": [
    "#3. Write a Python program to split and join a string?\n",
    "\n",
    "##spliting the string\n",
    "user_word = input(\"Enter the word: \")\n",
    "char = input(\"Enter the char\")\n",
    "def split(word,split_char):\n",
    "    return word.split(split_char)\n",
    "    \n",
    "print(\"after splitinfg the string\",split(user_word,char))\n",
    "\n",
    "##joining the string\n",
    "str1=input(\"Enter first String   :: \")\n",
    "str2=input(\"Enter second String  :: \")\n",
    "str=str2.join(str1)     #each character of str1 is concatenated to the #front of str2\n",
    "print(\"After joining of two string \",str)"
   ]
  },
  {
   "cell_type": "code",
   "execution_count": 4,
   "metadata": {},
   "outputs": [
    {
     "name": "stdout",
     "output_type": "stream",
     "text": [
      "Enter the string:001010101\n",
      "The String is in binary form.\n"
     ]
    }
   ],
   "source": [
    "#4. Write a Python to check if a given string is binary string or not?\n",
    "stri = input(\"Enter the string:\")\n",
    "a = set(stri)\n",
    "Output = True\n",
    "for i in a :\n",
    "    if (i=='0' or i=='1'):\n",
    "        continue\n",
    "    else:\n",
    "        Output = False\n",
    "        print(\"The String is not in binary form.\")\n",
    "        break\n",
    "if Output:\n",
    "    print(\"The String is in binary form.\")"
   ]
  },
  {
   "cell_type": "code",
   "execution_count": 7,
   "metadata": {},
   "outputs": [
    {
     "name": "stdout",
     "output_type": "stream",
     "text": [
      "enter the first string :Rohan is very good in studies\n",
      "enter the second string :Sam is good in playing chess\n",
      "Uncommon words from both strings are  {'Rohan', 'chess', 'very', 'playing', 'studies', 'Sam'}\n"
     ]
    }
   ],
   "source": [
    "#5. Write a Python program to find uncommon words from two Strings?\n",
    "s1 = input(\"enter the first string :\")\n",
    "\n",
    "s2 = input(\"enter the second string :\")\n",
    "\n",
    "uw=set()\n",
    "for i in s1.split(\" \"):\n",
    "    if i not in s2.split(\" \"):\n",
    "        uw.add(i)\n",
    "    \n",
    "for i  in s2.split(\" \"):\n",
    "    if i not in s1.split(\" \"):\n",
    "        uw.add(i)\n",
    "        \n",
    "print(\"Uncommon words from both strings are \",uw)"
   ]
  },
  {
   "cell_type": "code",
   "execution_count": 9,
   "metadata": {},
   "outputs": [
    {
     "name": "stdout",
     "output_type": "stream",
     "text": [
      "Enter the t string :samaksh goel\n",
      "Duplicate characters in string are {'s', 'a'}\n"
     ]
    }
   ],
   "source": [
    "#6. Write a Python to find all duplicate characters in string?\n",
    "s = input(\"Enter the t string :\")\n",
    "dup = set()\n",
    "for i in range(0,len(s)):\n",
    "    if s.count(s[i])>1:\n",
    "        dup.add(s[i])\n",
    "print(\"Duplicate characters in string are\", dup)"
   ]
  },
  {
   "cell_type": "code",
   "execution_count": 10,
   "metadata": {},
   "outputs": [
    {
     "name": "stdout",
     "output_type": "stream",
     "text": [
      "enter the  string :samaksh!\n",
      "String contain special character.\n"
     ]
    }
   ],
   "source": [
    "#7. Write a Python Program to check if a string contains any special character?\n",
    "sp_char = ''' \"!@#$%^&*()-_=[]{};:'<>?/.,\\|-`~ ' '''\n",
    "s = input(\"enter the  string :\")\n",
    "flag = True\n",
    "\n",
    "for i in s:\n",
    "    if i in sp_char:\n",
    "        flag = False\n",
    "        print(\"String contain special character.\")\n",
    "        break\n",
    "    \n",
    "if flag:\n",
    "    print(\"String does not contain special character.\")"
   ]
  },
  {
   "cell_type": "code",
   "execution_count": null,
   "metadata": {},
   "outputs": [],
   "source": []
  }
 ],
 "metadata": {
  "kernelspec": {
   "display_name": "Python 3",
   "language": "python",
   "name": "python3"
  },
  "language_info": {
   "codemirror_mode": {
    "name": "ipython",
    "version": 3
   },
   "file_extension": ".py",
   "mimetype": "text/x-python",
   "name": "python",
   "nbconvert_exporter": "python",
   "pygments_lexer": "ipython3",
   "version": "3.8.5"
  }
 },
 "nbformat": 4,
 "nbformat_minor": 4
}
