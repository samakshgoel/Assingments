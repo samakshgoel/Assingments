{
 "cells": [
  {
   "cell_type": "code",
   "execution_count": 1,
   "metadata": {},
   "outputs": [
    {
     "name": "stdout",
     "output_type": "stream",
     "text": [
      "Enter the elements in list: 5 6 7 8 9\n",
      "Enter the new number: 1\n",
      "[6, 7, 8, 9, 1]\n"
     ]
    }
   ],
   "source": [
    "# Question1\n",
    "# Write a function that takes a list and a number as arguments. Add the number to the end of\n",
    "# the list, then remove the first element of the list. The function should then return the updated\n",
    "# list.\n",
    "# Examples\n",
    "# next_in_line([5, 6, 7, 8, 9], 1) ➞ [6, 7, 8, 9, 1]\n",
    "# next_in_line([7, 6, 3, 23, 17], 10) ➞ [6, 3, 23, 17, 10]\n",
    "# next_in_line([1, 10, 20, 42 ], 6) ➞ [10, 20, 42, 6]\n",
    "# next_in_line([], 6) ➞ &quot;No list has been selected&quot;\n",
    "\n",
    "my_list = input(\"Enter the elements in list: \").split(\" \")\n",
    "new_num = int(input(\"Enter the new number: \"))\n",
    "def next_in_line(my_list,new_num):\n",
    "    res = []\n",
    "    if my_list != [\"\"]:\n",
    "        \n",
    "        for i in my_list:\n",
    "            res.append(int(i))\n",
    "        res.pop(0)\n",
    "        res.append(new_num)\n",
    "        print(res)\n",
    "    else:\n",
    "        print(\"No list has been selected\")\n",
    "next_in_line(my_list,new_num)"
   ]
  },
  {
   "cell_type": "code",
   "execution_count": 2,
   "metadata": {},
   "outputs": [
    {
     "name": "stdout",
     "output_type": "stream",
     "text": [
      "Enter the name: John\n",
      "Enter the age: 21\n",
      "Enter the budget: 29000\n",
      "Enter the name: steve\n",
      "Enter the age: 32\n",
      "Enter the budget: 32000\n",
      "Enter the name: Martin\n",
      "Enter the age: 16\n",
      "Enter the budget: 16000\n"
     ]
    },
    {
     "data": {
      "text/plain": [
       "77000"
      ]
     },
     "execution_count": 2,
     "metadata": {},
     "output_type": "execute_result"
    }
   ],
   "source": [
    "# Question2\n",
    "# Create the function that takes a list of dictionaries and returns the sum of people&#39;s budgets.\n",
    "# Examples\n",
    "# get_budgets([\n",
    "# { &quot;name&quot;: &quot;John&quot;, &quot;age&quot;: 21, &quot;budget&quot;: 23000 },\n",
    "# { &quot;name&quot;: &quot;Steve&quot;, &quot;age&quot;: 32, &quot;budget&quot;: 40000 },\n",
    "# { &quot;name&quot;: &quot;Martin&quot;, &quot;age&quot;: 16, &quot;budget&quot;: 2700 }\n",
    "# ]) ➞ 65700\n",
    "# get_budgets([\n",
    "# { &quot;name&quot;: &quot;John&quot;, &quot;age&quot;: 21, &quot;budget&quot;: 29000 },\n",
    "# { &quot;name&quot;: &quot;Steve&quot;, &quot;age&quot;: 32, &quot;budget&quot;: 32000 },\n",
    "# { &quot;name&quot;: &quot;Martin&quot;, &quot;age&quot;: 16, &quot;budget&quot;: 1600 }\n",
    "# ]) ➞ 62600\n",
    "\n",
    "\n",
    "def get_budgets():\n",
    "    l = []\n",
    "    for i in range(3):\n",
    "        d = {}\n",
    "        d[\"name\"] = input(\"Enter the name: \")\n",
    "        d[\"age\"] = int(input(\"Enter the age: \"))\n",
    "        d[\"budget\"] = int(input(\"Enter the budget: \"))\n",
    "        l.append(d)\n",
    "    \n",
    "    sum = 0\n",
    "    for i in l:\n",
    "        sum += i[\"budget\"]\n",
    "    return sum\n",
    "\n",
    "\n",
    "\n",
    "get_budgets()\n",
    "    "
   ]
  },
  {
   "cell_type": "code",
   "execution_count": 1,
   "metadata": {},
   "outputs": [
    {
     "name": "stdout",
     "output_type": "stream",
     "text": [
      "Enter the string: hacker\n"
     ]
    },
    {
     "data": {
      "text/plain": [
       "'acehkr'"
      ]
     },
     "execution_count": 1,
     "metadata": {},
     "output_type": "execute_result"
    }
   ],
   "source": [
    "# Question3\n",
    "# Create a function that takes a string and returns a string with its letters in alphabetical order.\n",
    "# Examples\n",
    "# alphabet_soup(&quot;hello&quot;) ➞ &quot;ehllo&quot;\n",
    "# alphabet_soup(&quot;edabit&quot;) ➞ &quot;abdeit&quot;\n",
    "# alphabet_soup(&quot;hacker&quot;) ➞ &quot;acehkr&quot;\n",
    "# alphabet_soup(&quot;geek&quot;) ➞ &quot;eegk&quot;\n",
    "# alphabet_soup(&quot;javascript&quot;) ➞ &quot;aacijprstv&quot;\n",
    "\n",
    "a = input(\"Enter the string: \")\n",
    "         \n",
    "def alphabet_soup(a):\n",
    "    a= list(a)\n",
    "    a.sort()\n",
    "    a = ''.join(a)\n",
    "    return a\n",
    "\n",
    "alphabet_soup(a)"
   ]
  },
  {
   "cell_type": "code",
   "execution_count": 4,
   "metadata": {},
   "outputs": [
    {
     "name": "stdout",
     "output_type": "stream",
     "text": [
      "Enter principal amount: 100000\n",
      "Enter the interest rate: 15\n",
      "Enter time (in years): 20\n",
      "Enter the number of times that interest is compounded per year: 365\n"
     ]
    },
    {
     "data": {
      "text/plain": [
       "2007316.26"
      ]
     },
     "execution_count": 4,
     "metadata": {},
     "output_type": "execute_result"
    }
   ],
   "source": [
    "# Question4\n",
    "# Suppose that you invest $10,000 for 10 years at an interest rate of 6% compounded monthly.\n",
    "# What will be the value of your investment at the end of the 10 year period?\n",
    "# Create a function that accepts the principal p, the term in years t, the interest rate r, and the\n",
    "# number of compounding periods per year n. The function returns the value at the end of term\n",
    "# rounded to the nearest cent.\n",
    "# For the example above:\n",
    "# compound_interest(10000, 10, 0.06, 12) ➞ 18193.97\n",
    "# Note that the interest rate is given as a decimal and n=12 because with monthly compounding\n",
    "# there are 12 periods per year. Compounding can also be done annually, quarterly, weekly, or\n",
    "# daily.\n",
    "# Examples\n",
    "# compound_interest(100, 1, 0.05, 1) ➞ 105.0\n",
    "# compound_interest(3500, 15, 0.1, 4) ➞ 15399.26\n",
    "# compound_interest(100000, 20, 0.15, 365) ➞ 2007316.26\n",
    "\n",
    "principal = float(input('Enter principal amount: '))\n",
    "rate = float(input('Enter the interest rate: '))\n",
    "time = float(input('Enter time (in years): '))\n",
    "number = float(input('Enter the number of times that interest is compounded per year: '))\n",
    "\n",
    "def compound_interest(principal,rate,time,number):\n",
    "    rate = rate/100\n",
    "    amount = principal * pow( 1+(rate/number), number*time)\n",
    "    return round(amount,2)\n",
    "    \n",
    "compound_interest(principal,rate,time,number)"
   ]
  },
  {
   "cell_type": "code",
   "execution_count": 5,
   "metadata": {},
   "outputs": [
    {
     "data": {
      "text/plain": [
       "[9, 2, 16]"
      ]
     },
     "execution_count": 5,
     "metadata": {},
     "output_type": "execute_result"
    }
   ],
   "source": [
    "# Question5\n",
    "# Write a function that takes a list of elements and returns only the integers.\n",
    "# Examples\n",
    "# return_only_integer([9, 2, &quot;space&quot;, &quot;car&quot;, &quot;lion&quot;, 16]) ➞ [9, 2, 16]\n",
    "# return_only_integer([&quot;hello&quot;, 81, &quot;basketball&quot;, 123, &quot;fox&quot;]) ➞ [81, 123]\n",
    "# return_only_integer([10, &quot;121&quot;, 56, 20, &quot;car&quot;, 3, &quot;lion&quot;]) ➞ [10, 56, 20,\n",
    "# 3]\n",
    "# return_only_integer([&quot;String&quot;, True, 3.3, 1]) ➞ [1]\n",
    "\n",
    "def return_only_interger(a):\n",
    "    res =[]\n",
    "    for i in a :\n",
    "        if(type(i)==int):\n",
    "            res.append(i)\n",
    "            \n",
    "    return res\n",
    "return_only_interger([9,2,\"space\",\"car\",\"lion\",16,True])"
   ]
  },
  {
   "cell_type": "code",
   "execution_count": null,
   "metadata": {},
   "outputs": [],
   "source": []
  }
 ],
 "metadata": {
  "kernelspec": {
   "display_name": "Python 3",
   "language": "python",
   "name": "python3"
  },
  "language_info": {
   "codemirror_mode": {
    "name": "ipython",
    "version": 3
   },
   "file_extension": ".py",
   "mimetype": "text/x-python",
   "name": "python",
   "nbconvert_exporter": "python",
   "pygments_lexer": "ipython3",
   "version": "3.8.5"
  }
 },
 "nbformat": 4,
 "nbformat_minor": 4
}
