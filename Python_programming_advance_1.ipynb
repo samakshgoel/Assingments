{
 "cells": [
  {
   "cell_type": "code",
   "execution_count": 1,
   "metadata": {},
   "outputs": [
    {
     "data": {
      "text/plain": [
       "2"
      ]
     },
     "execution_count": 1,
     "metadata": {},
     "output_type": "execute_result"
    }
   ],
   "source": [
    "# 1. Write a function that takes a list of lists and returns the value of all of the\n",
    "# symbols in it, where each symbol adds or takes something from the total\n",
    "# score. Symbol values:\n",
    "# # = 5\n",
    "# O = 3\n",
    "# X = 1\n",
    "# ! = -1\n",
    "# !! = -3\n",
    "# !!! = -5\n",
    "# A list of lists containing 2 #s, a O, and a !!! would equal (0 + 5 + 5 + 3 - 5) 8.\n",
    "# If the final score is negative, return 0 (e.g. 3 #s, 3 !!s, 2 !!!s and a X would be\n",
    "# (0 + 5 + 5 + 5 - 3 - 3 - 3 - 5 - 5 + 1) -3, so return 0.\n",
    "# Examples\n",
    "# check_score([\n",
    "# [&quot;#&quot;, &quot;!&quot;],\n",
    "# [&quot;!!&quot;, &quot;X&quot;]\n",
    "# ]) ➞ 2\n",
    "# check_score([\n",
    "# [&quot;!!!&quot;, &quot;O&quot;, &quot;!&quot;],\n",
    "# [&quot;X&quot;, &quot;#&quot;, &quot;!!!&quot;],\n",
    "# [&quot;!!&quot;, &quot;X&quot;, &quot;O&quot;]\n",
    "# ]) ➞ 0\n",
    "\n",
    "\n",
    "a = [[\"#\",\"!\"],[\"!!\",\"X\"]]\n",
    "def check_score(a):\n",
    "    dic = {\"#\":5,\"O\":3, \"X\":1, \"!\":-1, \"!!\":-3, \"!!!\":-5}\n",
    "    res = 0\n",
    "    for i in a:\n",
    "        for j in i:\n",
    "            res = res + dic[j]\n",
    "\n",
    "    if(res<0):\n",
    "        return 0\n",
    "    return res\n",
    "check_score(a)\n",
    "            \n",
    "    "
   ]
  },
  {
   "cell_type": "code",
   "execution_count": 2,
   "metadata": {},
   "outputs": [
    {
     "data": {
      "text/plain": [
       "120"
      ]
     },
     "execution_count": 2,
     "metadata": {},
     "output_type": "execute_result"
    }
   ],
   "source": [
    "# 2. Create a function that takes a variable number of arguments, each\n",
    "# argument representing the number of items in a group, and returns the\n",
    "# number of permutations (combinations) of items that you could get by taking\n",
    "# one item from each group.\n",
    "# Examples\n",
    "# combinations(2, 3) ➞ 6\n",
    "# combinations(3, 7, 4) ➞ 84\n",
    "# combinations(2, 3, 4, 5) ➞ 120\n",
    "\n",
    "\n",
    "def combinations(*a):\n",
    "    res = 1\n",
    "    b = list(a)\n",
    "    for i in a :\n",
    "        res *= int(i)\n",
    "    return res\n",
    "combinations(2,3,4,5)"
   ]
  },
  {
   "cell_type": "code",
   "execution_count": 3,
   "metadata": {},
   "outputs": [
    {
     "name": "stdout",
     "output_type": "stream",
     "text": [
      "Enter the number: 56963\n"
     ]
    },
    {
     "data": {
      "text/plain": [
       "True"
      ]
     },
     "execution_count": 3,
     "metadata": {},
     "output_type": "execute_result"
    }
   ],
   "source": [
    "# 4. Write a function that takes a number and returns True if it&#39;s a prime; False\n",
    "# otherwise. The number can be 2^64-1 (2 to the power of 63, not XOR). With\n",
    "# the standard technique it would be O(2^64-1), which is much too large for the\n",
    "# 10 second time limit.\n",
    "# Examples\n",
    "# prime(7) ➞ True\n",
    "# prime(56963) ➞ True\n",
    "# prime(5151512515524) ➞ False\n",
    "\n",
    "num = int(input(\"Enter the number: \"))\n",
    "\n",
    "def prime(a):\n",
    "    \n",
    "    if a==1:\n",
    "        return False\n",
    "    i=2\n",
    "    \n",
    "    while i*i<=a:\n",
    "        if(a%i==0):\n",
    "            return False\n",
    "\n",
    "        return True\n",
    "prime(num)"
   ]
  },
  {
   "cell_type": "code",
   "execution_count": 1,
   "metadata": {},
   "outputs": [
    {
     "name": "stdout",
     "output_type": "stream",
     "text": [
      "Enter the word: deep\n"
     ]
    },
    {
     "data": {
      "text/plain": [
       "[False, True, True, False]"
      ]
     },
     "execution_count": 1,
     "metadata": {},
     "output_type": "execute_result"
    }
   ],
   "source": [
    "# 5. Create a function that converts a word to a bitstring and then to a boolean\n",
    "# list based on the following criteria:\n",
    "# 1. Locate the position of the letter in the English alphabet (from 1 to 26).\n",
    "# 2. Odd positions will be represented as 1 and 0 otherwise.\n",
    "# 3. Convert the represented positions to boolean values, 1 for True and 0\n",
    "# for False.\n",
    "# 4. Store the conversions into an array.\n",
    "# Examples\n",
    "# to_boolean_list(&quot;deep&quot;) ➞ [False, True, True, False]\n",
    "# # deep converts to 0110\n",
    "# # d is the 4th alphabet - 0\n",
    "# # e is the 5th alphabet - 1\n",
    "# # e is the 5th alphabet - 1\n",
    "# # p is the 16th alphabet - 0\n",
    "# to_boolean_list(&quot;loves&quot;) ➞ [False, True, False, True, True]\n",
    "# to_boolean_list(&quot;tesh&quot;) ➞ [False, True, True, False]\n",
    "\n",
    "\n",
    "a = input(\"Enter the word: \")\n",
    "def to_boolean_list(a):\n",
    "    dictionary = {'a':1,'b':2,'c':3,'d':4,'e':5,'f':6,'g':7,'h':8,'i':9,'j':10,'k':11,'l':12,'m':13,'n':14,'o':15,'p':16,'q':17,'r':18,'s':19,'t':20,'u':21,'v':22,'w':23,'x':24,'y':25,'z':26}\n",
    "    a = list(a)\n",
    "    res = []\n",
    "    for i in a :\n",
    "        if (dictionary[i]%2 == 0):\n",
    "            res.append(False)\n",
    "        else:\n",
    "            res.append(True)\n",
    "    return res\n",
    "to_boolean_list(a)"
   ]
  },
  {
   "cell_type": "code",
   "execution_count": null,
   "metadata": {},
   "outputs": [],
   "source": []
  }
 ],
 "metadata": {
  "kernelspec": {
   "display_name": "Python 3",
   "language": "python",
   "name": "python3"
  },
  "language_info": {
   "codemirror_mode": {
    "name": "ipython",
    "version": 3
   },
   "file_extension": ".py",
   "mimetype": "text/x-python",
   "name": "python",
   "nbconvert_exporter": "python",
   "pygments_lexer": "ipython3",
   "version": "3.8.5"
  }
 },
 "nbformat": 4,
 "nbformat_minor": 4
}
