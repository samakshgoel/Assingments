{
 "cells": [
  {
   "cell_type": "code",
   "execution_count": 1,
   "metadata": {},
   "outputs": [
    {
     "name": "stdout",
     "output_type": "stream",
     "text": [
      "Enter the number: 10\n"
     ]
    },
    {
     "data": {
      "text/plain": [
       "[1, 2, 3, 40, 5, 6, 7, 80, 9, 10]"
      ]
     },
     "execution_count": 1,
     "metadata": {},
     "output_type": "execute_result"
    }
   ],
   "source": [
    "# Question1\n",
    "# Create a function that takes an integer and returns a list from 1 to the given number, where:\n",
    "# 1. If the number can be divided evenly by 4, amplify it by 10 (i.e. return 10 times the\n",
    "# number).\n",
    "# 2. If the number cannot be divided evenly by 4, simply return the number.\n",
    "# Examples\n",
    "# amplify(4) ➞ [1, 2, 3, 40]\n",
    "# amplify(3) ➞ [1, 2, 3]\n",
    "# amplify(25) ➞ [1, 2, 3, 40, 5, 6, 7, 80, 9, 10, 11, 120, 13, 14, 15, 160,\n",
    "# 17, 18, 19, 200, 21, 22, 23, 240, 25]\n",
    "# Notes\n",
    "#  The given integer will always be equal to or greater than 1.\n",
    "#  Include the number (see example above).\n",
    "\n",
    "my_num = int(input(\"Enter the number: \"))\n",
    "\n",
    "def amplify(a):\n",
    "    result = []\n",
    "    for i in range(1,a+1):\n",
    "        if (i%4==0):\n",
    "            result.append(i*10)\n",
    "        else:\n",
    "            result.append(i)\n",
    "    return result\n",
    "amplify(my_num)"
   ]
  },
  {
   "cell_type": "code",
   "execution_count": 2,
   "metadata": {},
   "outputs": [
    {
     "data": {
      "text/plain": [
       "2"
      ]
     },
     "execution_count": 2,
     "metadata": {},
     "output_type": "execute_result"
    }
   ],
   "source": [
    "# Question2\n",
    "# Create a function that takes a list of numbers and return the number that&#39;s unique.\n",
    "# Examples\n",
    "# unique([3, 3, 3, 7, 3, 3]) ➞ 7\n",
    "# unique([0, 0, 0.77, 0, 0]) ➞ 0.77\n",
    "# unique([0, 1, 1, 1, 1, 1, 1, 1]) ➞ 0\n",
    "# Notes\n",
    "# Test cases will always have exactly one unique number while all others are the same.\n",
    "\n",
    "a =[1,2,1,1,1,1,1,1,1]\n",
    "def unique(a):\n",
    "    for i in a:\n",
    "        if(a.count(i)==1):\n",
    "            return i\n",
    "unique(a)           "
   ]
  },
  {
   "cell_type": "code",
   "execution_count": 3,
   "metadata": {},
   "outputs": [
    {
     "name": "stdout",
     "output_type": "stream",
     "text": [
      "['MI', 'apple', 'Google', 'Microsoft']\n"
     ]
    }
   ],
   "source": [
    "# Question4\n",
    "# Create a function that takes a list of strings and return a list, sorted from shortest to longest.\n",
    "# Examples\n",
    "# sort_by_length([&quot;Google&quot;, &quot;Apple&quot;, &quot;Microsoft&quot;])\n",
    "# ➞ [&quot;Apple&quot;, &quot;Google&quot;, &quot;Microsoft&quot;]\n",
    "# sort_by_length([&quot;Leonardo&quot;, &quot;Michelangelo&quot;, &quot;Raphael&quot;, &quot;Donatello&quot;])\n",
    "# ➞ [&quot;Raphael&quot;, &quot;Leonardo&quot;, &quot;Donatello&quot;, &quot;Michelangelo&quot;]\n",
    "# sort_by_length([&quot;Turing&quot;, &quot;Einstein&quot;, &quot;Jung&quot;])\n",
    "# ➞ [&quot;Jung&quot;, &quot;Turing&quot;, &quot;Einstein&quot;]\n",
    "# Notes\n",
    "# All test cases contain lists with strings of different lengths, so you won&#39;t have to deal with\n",
    "# multiple strings of the same length.\n",
    "\n",
    "a = [ 'Google', 'Microsoft',\"apple\",\"MI\"]\n",
    "def sort_by_length(a):\n",
    "    sorted_list = list(sorted(a,key = len))\n",
    "    print(sorted_list)\n",
    "\n",
    "sort_by_length(a)"
   ]
  },
  {
   "cell_type": "code",
   "execution_count": 4,
   "metadata": {},
   "outputs": [
    {
     "name": "stdout",
     "output_type": "stream",
     "text": [
      "Enter the first number: 3\n",
      "Enter the second number: 4\n",
      "Enter the third number: 5\n"
     ]
    },
    {
     "data": {
      "text/plain": [
       "True"
      ]
     },
     "execution_count": 4,
     "metadata": {},
     "output_type": "execute_result"
    }
   ],
   "source": [
    "# Question5\n",
    "# Create a function that validates whether three given integers form a Pythagorean triplet. The\n",
    "# sum of the squares of the two smallest integers must equal the square of the largest number to\n",
    "# be validated.\n",
    "\n",
    "# Examples\n",
    "# is_triplet(3, 4, 5) ➞ True\n",
    "# # 3² + 4² = 25\n",
    "# # 5² = 25\n",
    "# is_triplet(13, 5, 12) ➞ True\n",
    "# # 5² + 12² = 169\n",
    "# # 13² = 169\n",
    "# is_triplet(1, 2, 3) ➞ False\n",
    "# # 1² + 2² = 5\n",
    "# # 3² = 9\n",
    "# Notes\n",
    "# Numbers may not be given in a sorted order.\n",
    "\n",
    "a = int(input(\"Enter the first number: \"))\n",
    "b = int(input(\"Enter the second number: \"))\n",
    "c = int(input(\"Enter the third number: \"))\n",
    "\n",
    "def is_triplet(a,b,c):\n",
    "    A = a*a\n",
    "    B = b*b\n",
    "    C = c*c\n",
    "\n",
    "\n",
    "    if (A==(B+C)):\n",
    "        return True\n",
    "    elif (B == (A+C)):\n",
    "        return True\n",
    "    elif(C==(A+B)):\n",
    "        return True\n",
    "    \n",
    "    return False\n",
    "is_triplet(a,b,c)"
   ]
  },
  {
   "cell_type": "code",
   "execution_count": null,
   "metadata": {},
   "outputs": [],
   "source": []
  }
 ],
 "metadata": {
  "kernelspec": {
   "display_name": "Python 3",
   "language": "python",
   "name": "python3"
  },
  "language_info": {
   "codemirror_mode": {
    "name": "ipython",
    "version": 3
   },
   "file_extension": ".py",
   "mimetype": "text/x-python",
   "name": "python",
   "nbconvert_exporter": "python",
   "pygments_lexer": "ipython3",
   "version": "3.8.5"
  }
 },
 "nbformat": 4,
 "nbformat_minor": 4
}
