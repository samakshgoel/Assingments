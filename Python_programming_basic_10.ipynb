{
 "cells": [
  {
   "cell_type": "code",
   "execution_count": 1,
   "metadata": {},
   "outputs": [
    {
     "name": "stdout",
     "output_type": "stream",
     "text": [
      "167\n"
     ]
    }
   ],
   "source": [
    "#1. Write a Python program to find sum of elements in list?\n",
    "l = [1,2,3,45,32,84]\n",
    "sum =0\n",
    "for i in l:\n",
    "    if type(i)==int or type(i)== float:\n",
    "        sum += i\n",
    "print(sum)"
   ]
  },
  {
   "cell_type": "code",
   "execution_count": 2,
   "metadata": {},
   "outputs": [
    {
     "name": "stdout",
     "output_type": "stream",
     "text": [
      "7257600\n"
     ]
    }
   ],
   "source": [
    "#2. Write a Python program to Multiply all numbers in the list?\n",
    "l = [1,2,3,10,45,32,84]\n",
    "mult =1\n",
    "for i in l:\n",
    "    if type(i)==int or type(i)== float:\n",
    "        mult *= i\n",
    "print(mult)"
   ]
  },
  {
   "cell_type": "code",
   "execution_count": 3,
   "metadata": {},
   "outputs": [
    {
     "name": "stdout",
     "output_type": "stream",
     "text": [
      "8\n"
     ]
    }
   ],
   "source": [
    "#3. Write a Python program to find smallest number in a list?\n",
    "l = [12,9,8,62,45,32,84]\n",
    "l.sort()\n",
    "print(l[0])"
   ]
  },
  {
   "cell_type": "code",
   "execution_count": 1,
   "metadata": {},
   "outputs": [
    {
     "name": "stdout",
     "output_type": "stream",
     "text": [
      "84\n"
     ]
    }
   ],
   "source": [
    "#4. Write a Python program to find largest number in a list?\n",
    "l = [12,9,8,62,45,32,84,77]\n",
    "l.sort()\n",
    "print(l[-1])"
   ]
  },
  {
   "cell_type": "code",
   "execution_count": 2,
   "metadata": {},
   "outputs": [
    {
     "data": {
      "text/plain": [
       "77"
      ]
     },
     "execution_count": 2,
     "metadata": {},
     "output_type": "execute_result"
    }
   ],
   "source": [
    "#5. Write a Python program to find second largest number in a list?\n",
    "l = [12,9,8,62,45,32,84,77,84]\n",
    "l1 = set(l)\n",
    "l = list(l1)\n",
    "l.sort()\n",
    "l[-2]"
   ]
  },
  {
   "cell_type": "code",
   "execution_count": 4,
   "metadata": {},
   "outputs": [
    {
     "name": "stdout",
     "output_type": "stream",
     "text": [
      "Enter the number : 5\n",
      "[84, 84, 77, 62, 45]\n"
     ]
    }
   ],
   "source": [
    "#6. Write a Python program to find N largest elements from a list?\n",
    "n = int(input(\"Enter the number : \"))\n",
    "l = [12,9,8,62,45,32,84,77,84]\n",
    "l.sort()\n",
    "print(l[-1:-1-n:-1])"
   ]
  },
  {
   "cell_type": "code",
   "execution_count": 5,
   "metadata": {},
   "outputs": [
    {
     "name": "stdout",
     "output_type": "stream",
     "text": [
      "[12, 8, 62, 32, 84]\n"
     ]
    }
   ],
   "source": [
    "#7. Write a Python program to print even numbers in a list?\n",
    "l = [12,9,8,62,45,32,84,77]\n",
    "l_even = []\n",
    "for i in l:\n",
    "    if i%2==0:\n",
    "        l_even.append(i)\n",
    "print(l_even)"
   ]
  },
  {
   "cell_type": "code",
   "execution_count": 6,
   "metadata": {},
   "outputs": [
    {
     "name": "stdout",
     "output_type": "stream",
     "text": [
      "[9, 45, 77]\n"
     ]
    }
   ],
   "source": [
    "#8. Write a Python program to print odd numbers in a List?\n",
    "l = [12,9,8,62,45,32,84,77]\n",
    "l_odd = []\n",
    "for i in l:\n",
    "    if i%2!=0:\n",
    "        l_odd.append(i)\n",
    "print(l_odd)"
   ]
  },
  {
   "cell_type": "code",
   "execution_count": 7,
   "metadata": {},
   "outputs": [
    {
     "name": "stdout",
     "output_type": "stream",
     "text": [
      "[1, 2, 3]\n",
      "[1, 2]\n",
      "[62, 21, 'hgufydts']\n",
      "[1, 2, 3, 4]\n"
     ]
    }
   ],
   "source": [
    "#9. Write a Python program to Remove empty List from List?\n",
    "lst = [[1, 2, 3], [1, 2], [62,21,\"hgufydts\"],[], [], [], [1, 2, 3, 4], [], []]\n",
    "for x in lst:\n",
    "    if x:\n",
    "        print(x)"
   ]
  },
  {
   "cell_type": "code",
   "execution_count": 9,
   "metadata": {},
   "outputs": [
    {
     "name": "stdout",
     "output_type": "stream",
     "text": [
      "Original List: [[1, 2, 3], [1, 2], [62, 21, 'hgufydts'], [], [], [], [1, 2, 3, 4], [], []]\n",
      "After Cloning: [[1, 2, 3], [1, 2], [62, 21, 'hgufydts'], [], [], [], [1, 2, 3, 4], [], []]\n"
     ]
    }
   ],
   "source": [
    "#10. Write a Python program to Cloning or Copying a list?\n",
    "def Coping(lst):\n",
    "    l_copy = lst[:]\n",
    "    return l_copy\n",
    "  \n",
    "lst = [[1, 2, 3], [1, 2], [62,21,\"hgufydts\"],[], [], [], [1, 2, 3, 4], [], []]\n",
    "l = Coping(lst)\n",
    "print(\"Original List:\", lst)\n",
    "print(\"After Cloning:\", l)"
   ]
  },
  {
   "cell_type": "code",
   "execution_count": 14,
   "metadata": {},
   "outputs": [
    {
     "name": "stdout",
     "output_type": "stream",
     "text": [
      "Enter the element: 9\n",
      "9 is present 3 times\n"
     ]
    }
   ],
   "source": [
    "#11. Write a Python program to Count occurrences of an element in a list?\n",
    "user_input = int(input(\"Enter the element: \"))\n",
    "lst = [12,9,8,62,45,32,84,77,45,32,84,45,32,8,9,9]\n",
    "if user_input in lst:\n",
    "    print(\"{} is present {} times\".format(user_input,lst.count(user_input)))\n",
    "else:\n",
    "    print(\"No such element is present\")"
   ]
  },
  {
   "cell_type": "code",
   "execution_count": null,
   "metadata": {},
   "outputs": [],
   "source": []
  }
 ],
 "metadata": {
  "kernelspec": {
   "display_name": "Python 3",
   "language": "python",
   "name": "python3"
  },
  "language_info": {
   "codemirror_mode": {
    "name": "ipython",
    "version": 3
   },
   "file_extension": ".py",
   "mimetype": "text/x-python",
   "name": "python",
   "nbconvert_exporter": "python",
   "pygments_lexer": "ipython3",
   "version": "3.8.5"
  }
 },
 "nbformat": 4,
 "nbformat_minor": 4
}
