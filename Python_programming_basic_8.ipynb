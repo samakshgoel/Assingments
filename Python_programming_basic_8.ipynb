{
 "cells": [
  {
   "cell_type": "code",
   "execution_count": 4,
   "metadata": {},
   "outputs": [
    {
     "name": "stdout",
     "output_type": "stream",
     "text": [
      "Enter Value for first matrix :\n",
      "\n",
      "enter the number of rows: 2\n",
      "enter the number of cols: 2\n",
      "Enter element for 0 column :14\n",
      "Enter element for 1 column :15\n",
      "Enter element for 0 column :16\n",
      "Enter element for 1 column :12\n",
      "[14, 15]\n",
      "[16, 12]\n",
      "\n",
      "Enter Value for Second matrix :\n",
      "\n",
      "enter the number of rows: 2\n",
      "enter the number of cols: 2\n",
      "Enter element for 0 column :28\n",
      "Enter element for 1 column :24\n",
      "Enter element for 0 column :26\n",
      "Enter element for 1 column :21\n",
      "[28, 24]\n",
      "[26, 21]\n",
      "Addition of two matrix is : \n",
      "[42, 39]\n",
      "[42, 33]\n"
     ]
    }
   ],
   "source": [
    "#1. Write a Python Program to Add Two Matrices?\n",
    "def matrix_input():\n",
    "    \n",
    "    rows = int(input(\"enter the number of rows: \"))\n",
    "    cols = int(input(\"enter the number of cols: \"))\n",
    "    matrix = []\n",
    "    for i in range(rows):\n",
    "        matrix.append([])\n",
    "        for j in range(cols):\n",
    "            matrix[i].append(int(input(\"Enter element for {} column :\".format(j))))\n",
    "    \n",
    "    return matrix\n",
    "\n",
    "print(\"Enter Value for first matrix :\\n\")\n",
    "a = matrix_input()\n",
    "for i in a:\n",
    "    print(i)\n",
    "    \n",
    "print(\"\\nEnter Value for Second matrix :\\n\")\n",
    "b = matrix_input()\n",
    "for i in b:\n",
    "    print(i)\n",
    "    \n",
    "c = []\n",
    "for i in range(len(a)) :\n",
    "    c.append([])\n",
    "    for j in range(len(a[0])) :\n",
    "        c[i].append(a[i][j] + b[i][j])\n",
    "        \n",
    "print(\"Addition of two matrix is : \")\n",
    "for i in c:\n",
    "    print(i)"
   ]
  },
  {
   "cell_type": "code",
   "execution_count": 2,
   "metadata": {},
   "outputs": [
    {
     "name": "stdout",
     "output_type": "stream",
     "text": [
      "Multiplication of two matrix is :\n",
      "[119, 562, 312, 191]\n",
      "[124, 444, 217, 139]\n",
      "[179, 910, 516, 323]\n"
     ]
    }
   ],
   "source": [
    "#2. Write a Python Program to Multiply Two Matrices?\n",
    "X = [[7 ,8,9],\n",
    "    [14 ,5,6],\n",
    "    [7 ,14, 15]]\n",
    "\n",
    "Y = [[5,8,1,2],\n",
    "    [6,16, 1, 21],\n",
    "    [4,42, 33,1]]\n",
    "\n",
    "result = [[0,0,0,0],\n",
    "         [0,0,0,0],\n",
    "         [0,0,0,0]]\n",
    "\n",
    "\n",
    "for i in range(len(X)):\n",
    "    for j in range(len(Y[0])):\n",
    "        for k in range(len(Y)):\n",
    "            result[i][j] += X[i][k] * Y[k][j]\n",
    "            \n",
    "            \n",
    "print(\"Multiplication of two matrix is :\")\n",
    "for r in result:\n",
    "    print(r)    "
   ]
  },
  {
   "cell_type": "code",
   "execution_count": 3,
   "metadata": {},
   "outputs": [
    {
     "name": "stdout",
     "output_type": "stream",
     "text": [
      "Enter Value for first matrix :\n",
      "\n",
      "enter the number of rows: 3\n",
      "enter the number of cols: 2\n",
      "Enter element for 0 column :12\n",
      "Enter element for 1 column :7\n",
      "Enter element for 0 column :3\n",
      "Enter element for 1 column :4\n",
      "Enter element for 0 column :5\n",
      "Enter element for 1 column :6\n",
      "Given Matrix: \n",
      "\n",
      "[12, 7]\n",
      "[3, 4]\n",
      "[5, 6]\n",
      "Transpose of the matrix is : \n",
      "\n",
      "[12, 3, 5]\n",
      "[7, 4, 6]\n"
     ]
    }
   ],
   "source": [
    "#3. Write a Python Program to Transpose a Matrix?\n",
    "def matrix_input():\n",
    "    \n",
    "    rows = int(input(\"enter the number of rows: \"))\n",
    "    cols = int(input(\"enter the number of cols: \"))\n",
    "    matrix = []\n",
    "    for i in range(rows):\n",
    "        matrix.append([])\n",
    "        for j in range(cols):\n",
    "            matrix[i].append(int(input(\"Enter element for {} column :\".format(j))))\n",
    "    \n",
    "    return matrix\n",
    "\n",
    "print(\"Enter Value for first matrix :\\n\")\n",
    "a = matrix_input()\n",
    "print(\"Given Matrix: \\n\")\n",
    "for i in a:\n",
    "    print(i)\n",
    "\n",
    "    \n",
    "result_matrix = []\n",
    "for i in range(2):\n",
    "    result_matrix.append([])\n",
    "    for j in range(3):\n",
    "        result_matrix[i].append(0)\n",
    "        \n",
    "for i in range(len(a)):\n",
    "    for j in range(len(a[0])):        \n",
    "        result_matrix[j][i] = a[i][j]\n",
    "print(\"Transpose of the matrix is : \\n\")       \n",
    "for i in result_matrix:\n",
    "    print(i)"
   ]
  },
  {
   "cell_type": "code",
   "execution_count": 4,
   "metadata": {},
   "outputs": [
    {
     "name": "stdout",
     "output_type": "stream",
     "text": [
      "Enter your string to sort in alphabetic order: Enter your string to sort in alphabetic order\n",
      "The sorted words are:\n",
      "ALPHABETIC\n",
      "ENTER\n",
      "IN\n",
      "ORDER\n",
      "SORT\n",
      "STRING\n",
      "TO\n",
      "YOUR\n"
     ]
    }
   ],
   "source": [
    "#4. Write a Python Program to Sort Words in Alphabetic Order?\n",
    "my_str =input(\"Enter your string to sort in alphabetic order: \")\n",
    "words = []\n",
    "for i in my_str.split():\n",
    "    words.append(i.upper())\n",
    "\n",
    "\n",
    "words.sort()\n",
    "\n",
    "print(\"The sorted words are:\")\n",
    "for word in words:\n",
    "    print(word)"
   ]
  },
  {
   "cell_type": "code",
   "execution_count": 5,
   "metadata": {},
   "outputs": [
    {
     "name": "stdout",
     "output_type": "stream",
     "text": [
      "Enter the string: re@lly python--- is e@sy && G**d!!!\n",
      "relly python is esy  Gd\n"
     ]
    }
   ],
   "source": [
    "#5. Write a Python Program to Remove Punctuation From a String?\n",
    "punctuations = '''!()-[]{};:'\"\\,<>./?@#$%^&*_~'''\n",
    "\n",
    "input_str = input(\"Enter the string: \")\n",
    "\n",
    "result_str = \"\"\n",
    "for char in input_str:\n",
    "    if char not in punctuations:\n",
    "        result_str = result_str + char\n",
    "\n",
    "\n",
    "print(result_str)"
   ]
  },
  {
   "cell_type": "code",
   "execution_count": null,
   "metadata": {},
   "outputs": [],
   "source": []
  }
 ],
 "metadata": {
  "kernelspec": {
   "display_name": "Python 3",
   "language": "python",
   "name": "python3"
  },
  "language_info": {
   "codemirror_mode": {
    "name": "ipython",
    "version": 3
   },
   "file_extension": ".py",
   "mimetype": "text/x-python",
   "name": "python",
   "nbconvert_exporter": "python",
   "pygments_lexer": "ipython3",
   "version": "3.8.5"
  }
 },
 "nbformat": 4,
 "nbformat_minor": 4
}
