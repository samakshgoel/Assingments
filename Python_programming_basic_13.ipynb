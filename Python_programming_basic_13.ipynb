{
 "cells": [
  {
   "cell_type": "code",
   "execution_count": 1,
   "metadata": {},
   "outputs": [
    {
     "name": "stdout",
     "output_type": "stream",
     "text": [
      "Enter the number: 100,150,180\n",
      "18,22,24\n"
     ]
    }
   ],
   "source": [
    "#Question 1:\n",
    "# Write a program that calculates and prints the value according to the given formula:\n",
    "# Q = Square root of [(2 * C * D)/H]\n",
    "# Following are the fixed values of C and H:\n",
    "# C is 50. H is 30.\n",
    "# D is the variable whose values should be input to your program in a comma-separated\n",
    "# sequence.\n",
    "# Example\n",
    "# Let us assume the following comma separated input sequence is given to the program:\n",
    "# 100,150,180\n",
    "# The output of the program should be:\n",
    "# 18,22,24\n",
    "\n",
    "a ,b,c = [int(i) for i in input(\"Enter the number: \").split(\",\")]\n",
    "def sqrt(num):\n",
    "    x = ((2*50*num)/30)**0.5\n",
    "    return str(round(x))\n",
    "print(sqrt(a)+\",\"+sqrt(b)+\",\"+sqrt(c))\n",
    "\n"
   ]
  },
  {
   "cell_type": "code",
   "execution_count": 2,
   "metadata": {},
   "outputs": [
    {
     "name": "stdout",
     "output_type": "stream",
     "text": [
      "Enter X: 3\n",
      "Enter Y: 5\n",
      "[[0, 0, 0, 0, 0], [0, 1, 2, 3, 4], [0, 2, 4, 6, 8]]\n"
     ]
    }
   ],
   "source": [
    "# Question 2:\n",
    "# Write a program which takes 2 digits, X,Y as input and generates a 2-dimensional array. The\n",
    "# element value in the i-th row and j-th column of the array should be i*j.\n",
    "# Note: i=0,1.., X-1; j=0,1,¡Y-1.\n",
    "# Example\n",
    "# Suppose the following inputs are given to the program:\n",
    "# 3,5\n",
    "# Then, the output of the program should be:\n",
    "# [[0, 0, 0, 0, 0], [0, 1, 2, 3, 4], [0, 2, 4, 6, 8]]\n",
    "\n",
    "def fun_2():\n",
    "    X = int(input(\"Enter X: \"))\n",
    "    Y = int(input(\"Enter Y: \"))\n",
    "    l = []\n",
    "    for i in range(X):\n",
    "        a = []\n",
    "        for j in range(Y):\n",
    "            a.append(i*j)\n",
    "        l.append(a)\n",
    "    \n",
    "    print(l)\n",
    "    \n",
    "fun_2()"
   ]
  },
  {
   "cell_type": "code",
   "execution_count": 2,
   "metadata": {},
   "outputs": [
    {
     "name": "stdout",
     "output_type": "stream",
     "text": [
      "Enter the number: without,hello,bag,world\n",
      "bag,hello,without,world,"
     ]
    }
   ],
   "source": [
    "# Question 3:\n",
    "# Write a program that accepts a comma separated sequence of words as input and prints the\n",
    "# words in a comma-separated sequence after sorting them alphabetically.\n",
    "# Suppose the following input is supplied to the program:\n",
    "# without,hello,bag,world\n",
    "# Then, the output should be:\n",
    "# bag,hello,without,world\n",
    "\n",
    "def sorted_word():\n",
    "    l = []\n",
    "    [l.append(i) for i in input(\"Enter the number: \").split(\",\")]\n",
    "    l.sort()\n",
    "    for i in l:\n",
    "        print(i+\",\",end=\"\")\n",
    "\n",
    "sorted_word()"
   ]
  },
  {
   "cell_type": "code",
   "execution_count": 1,
   "metadata": {},
   "outputs": [
    {
     "name": "stdout",
     "output_type": "stream",
     "text": [
      "Enter the number: hello world and practice makes perfect and hello world again\n",
      "again and hello makes perfect practice world "
     ]
    }
   ],
   "source": [
    "# Question 4:\n",
    "# Write a program that accepts a sequence of whitespace separated words as input and prints\n",
    "# the words after removing all duplicate words and sorting them alphanumerically.\n",
    "# Suppose the following input is supplied to the program:\n",
    "# hello world and practice makes perfect and hello world again\n",
    "# Then, the output should be:\n",
    "# again and hello makes perfect practice world\n",
    "\n",
    "def fun_4():\n",
    "    l = []\n",
    "    [l.append(i) for i in input(\"Enter the number: \").split(\" \")]\n",
    "    b = list(set(l))\n",
    "    \n",
    "    for i in sorted(b):\n",
    "        print(i+\" \",end=\"\")\n",
    "\n",
    "fun_4()"
   ]
  },
  {
   "cell_type": "code",
   "execution_count": 2,
   "metadata": {},
   "outputs": [
    {
     "name": "stdout",
     "output_type": "stream",
     "text": [
      "Enter the string : helloworld!123\n",
      "LETTERS:10\n",
      " DIGITS: 3\n"
     ]
    }
   ],
   "source": [
    "# Question 5:\n",
    "# Write a program that accepts a sentence and calculate the number of letters and digits.\n",
    "# Suppose the following input is supplied to the program:\n",
    "# hello world! 123\n",
    "# Then, the output should be:\n",
    "# LETTERS 10\n",
    "\n",
    "# DIGITS 3\n",
    "\n",
    "def fun5():\n",
    "    string = input(\"Enter the string : \")\n",
    "    s_count = 0\n",
    "    n_count = 0\n",
    "    for i in string:\n",
    "        if (i.isalpha()):\n",
    "            s_count += 1\n",
    "        if (i.isnumeric()):\n",
    "            n_count += 1\n",
    "    print(\"LETTERS:\"+str(s_count)+\"\\n\" , \"DIGITS: \"+ str(n_count))\n",
    "    \n",
    "fun5()"
   ]
  },
  {
   "cell_type": "code",
   "execution_count": 1,
   "metadata": {},
   "outputs": [
    {
     "name": "stdout",
     "output_type": "stream",
     "text": [
      "Enter the number: ABd1234@1,a F1#,2w3E*,2We3345\n",
      "ABd1234@1 "
     ]
    }
   ],
   "source": [
    "# Question 6:\n",
    "# A website requires the users to input username and password to register. Write a program to\n",
    "# check the validity of password input by users.\n",
    "# Following are the criteria for checking the password:\n",
    "# 1. At least 1 letter between [a-z]\n",
    "# 2. At least 1 number between [0-9]\n",
    "# 1. At least 1 letter between [A-Z]\n",
    "# 3. At least 1 character from [$#@]\n",
    "# 4. Minimum length of transaction password: 6\n",
    "# 5. Maximum length of transaction password: 12\n",
    "# Your program should accept a sequence of comma separated passwords and will check them\n",
    "# according to the above criteria. Passwords that match the criteria are to be printed, each\n",
    "# separated by a comma.\n",
    "# Example\n",
    "# If the following passwords are given as input to the program:\n",
    "# ABd1234@1,a F1#,2w3E*,2We3345\n",
    "# Then, the output of the program should be:\n",
    "# ABd1234@1\n",
    "\n",
    "\n",
    "\n",
    "def fun_6():\n",
    "    l = []\n",
    "    [l.append(i) for i in input(\"Enter the number: \").split(\",\")]\n",
    "    c = [\"$\",\"#\",\"@\"]\n",
    "    lr = []\n",
    "    for i in l:\n",
    "        \n",
    "        if len(i)>5 and len(i)<13:\n",
    "            for j in i:\n",
    "                if i.isupper():\n",
    "                    break\n",
    "                elif i.islower():\n",
    "                    break\n",
    "                elif  i.isnumeric():\n",
    "                    break\n",
    "                elif j in c :\n",
    "                    lr.append(i)                    \n",
    "                    break\n",
    "        \n",
    "    \n",
    "    for i in lr:\n",
    "        print(i+\" \",end=\"\")\n",
    "\n",
    "fun_6()"
   ]
  },
  {
   "cell_type": "code",
   "execution_count": null,
   "metadata": {},
   "outputs": [],
   "source": []
  }
 ],
 "metadata": {
  "kernelspec": {
   "display_name": "Python 3",
   "language": "python",
   "name": "python3"
  },
  "language_info": {
   "codemirror_mode": {
    "name": "ipython",
    "version": 3
   },
   "file_extension": ".py",
   "mimetype": "text/x-python",
   "name": "python",
   "nbconvert_exporter": "python",
   "pygments_lexer": "ipython3",
   "version": "3.8.5"
  }
 },
 "nbformat": 4,
 "nbformat_minor": 4
}
