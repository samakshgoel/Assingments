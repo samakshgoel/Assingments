{
 "cells": [
  {
   "cell_type": "code",
   "execution_count": 2,
   "metadata": {},
   "outputs": [
    {
     "name": "stdout",
     "output_type": "stream",
     "text": [
      "Enter the stringstring\n",
      "ssttrriinngg"
     ]
    }
   ],
   "source": [
    "# Question1\n",
    "# Create a function that takes a string and returns a string in which each character is repeated\n",
    "# once.\n",
    "# Examples\n",
    "# double_char(&quot;String&quot;) ➞ &quot;SSttrriinngg&quot;\n",
    "# double_char(&quot;Hello World!&quot;) ➞ &quot;HHeelllloo WWoorrlldd!!&quot;\n",
    "# double_char(&quot;1234!_ &quot;) ➞ &quot;11223344!!__ &quot;\n",
    "\n",
    "def double_char():\n",
    "    a = list(input(\"Enter the string\"))\n",
    "    res = []\n",
    "    for i in a:\n",
    "        res.append(i*2)\n",
    "    for i in res:\n",
    "        print(i,end=\"\")\n",
    "double_char()\n"
   ]
  },
  {
   "cell_type": "code",
   "execution_count": 1,
   "metadata": {},
   "outputs": [
    {
     "name": "stdout",
     "output_type": "stream",
     "text": [
      "Enter the boolean value: True\n"
     ]
    },
    {
     "data": {
      "text/plain": [
       "False"
      ]
     },
     "execution_count": 1,
     "metadata": {},
     "output_type": "execute_result"
    }
   ],
   "source": [
    "# Question2\n",
    "# Create a function that reverses a boolean value and returns the string &quot;boolean expected&quot;\n",
    "# if another variable type is given.\n",
    "# Examples\n",
    "# reverse(True) ➞ False\n",
    "# reverse(False) ➞ True\n",
    "# reverse(0) ➞ &quot;boolean expected&quot;\n",
    "# reverse(None) ➞ &quot;boolean expected&quot;\n",
    "\n",
    "\n",
    "def reverse():\n",
    "    a = input(\"Enter the boolean value: \")\n",
    "    if a == \"True\":\n",
    "        return False\n",
    "    elif a== \"False\":\n",
    "        return True \n",
    "    else:\n",
    "        print(\"Boolean Expected\")\n",
    "reverse()"
   ]
  },
  {
   "cell_type": "code",
   "execution_count": 1,
   "metadata": {},
   "outputs": [
    {
     "name": "stdout",
     "output_type": "stream",
     "text": [
      "enter the number of folds: 21\n"
     ]
    },
    {
     "data": {
      "text/plain": [
       "'1048.576m'"
      ]
     },
     "execution_count": 1,
     "metadata": {},
     "output_type": "execute_result"
    }
   ],
   "source": [
    "# Question3\n",
    "# Create a function that returns the thickness (in meters) of a piece of paper after folding it n\n",
    "# number of times. The paper starts off with a thickness of 0.5mm.\n",
    "# Examples\n",
    "# num_layers(1) ➞ &quot;0.001m&quot;\n",
    "# # Paper folded once is 1mm (equal to 0.001m)\n",
    "# num_layers(4) ➞ &quot;0.008m&quot;\n",
    "# # Paper folded 4 times is 8mm (equal to 0.008m)\n",
    "# num_layers(21) ➞ &quot;1048.576m&quot;\n",
    "# # Paper folded 21 times is 1048576mm (equal to 1048.576m)\n",
    "\n",
    "\n",
    "num_folds = int(input(\"enter the number of folds: \"))\n",
    "def num_layers(a):\n",
    "    thickness = 0.5\n",
    "\n",
    "    for i in range(0,a):\n",
    "        thickness = thickness *2\n",
    "    return str(thickness/1000)+\"m\"\n",
    "num_layers(num_folds)"
   ]
  },
  {
   "cell_type": "code",
   "execution_count": 3,
   "metadata": {},
   "outputs": [
    {
     "name": "stdout",
     "output_type": "stream",
     "text": [
      "Enter the string: STRIKE\n",
      "[0, 1, 2, 3, 4, 5]\n"
     ]
    }
   ],
   "source": [
    "# Question4\n",
    "\n",
    "# Create a function that takes a single string as argument and returns an ordered list containing\n",
    "# the indices of all capital letters in the string.\n",
    "# Examples\n",
    "# index_of_caps(&quot;eDaBiT&quot;) ➞ [1, 3, 5]\n",
    "# index_of_caps(&quot;eQuINoX&quot;) ➞ [1, 3, 4, 6]\n",
    "# index_of_caps(&quot;determine&quot;) ➞ []\n",
    "# index_of_caps(&quot;STRIKE&quot;) ➞ [0, 1, 2, 3, 4, 5]\n",
    "# index_of_caps(&quot;sUn&quot;) ➞ [1]\n",
    "\n",
    "def index_of_caps():\n",
    "    my_str = input(\"Enter the string: \")\n",
    "    res = []\n",
    "    for i in range(len(my_str)):\n",
    "        if my_str[i].isupper():\n",
    "            res.append(i)    \n",
    "    print(res)\n",
    "    \n",
    "index_of_caps()"
   ]
  },
  {
   "cell_type": "code",
   "execution_count": 2,
   "metadata": {},
   "outputs": [
    {
     "name": "stdout",
     "output_type": "stream",
     "text": [
      "Enter the number: 2\n"
     ]
    },
    {
     "data": {
      "text/plain": [
       "[2]"
      ]
     },
     "execution_count": 2,
     "metadata": {},
     "output_type": "execute_result"
    }
   ],
   "source": [
    "# Question5\n",
    "# Using list comprehensions, create a function that finds all even numbers from 1 to the given\n",
    "# number.\n",
    "# Examples\n",
    "# find_even_nums(8) ➞ [2, 4, 6, 8]\n",
    "# find_even_nums(4) ➞ [2, 4]\n",
    "# find_even_nums(2) ➞ [2]\n",
    "\n",
    "\n",
    "a = int(input(\"Enter the number: \"))\n",
    "res = []\n",
    "def find_even_nums(a):\n",
    "    \n",
    "    [res.append(i) for i in range(1,a+1) if i%2==0]\n",
    "    return res\n",
    "find_even_nums(a)"
   ]
  },
  {
   "cell_type": "code",
   "execution_count": null,
   "metadata": {},
   "outputs": [],
   "source": []
  }
 ],
 "metadata": {
  "kernelspec": {
   "display_name": "Python 3",
   "language": "python",
   "name": "python3"
  },
  "language_info": {
   "codemirror_mode": {
    "name": "ipython",
    "version": 3
   },
   "file_extension": ".py",
   "mimetype": "text/x-python",
   "name": "python",
   "nbconvert_exporter": "python",
   "pygments_lexer": "ipython3",
   "version": "3.8.5"
  }
 },
 "nbformat": 4,
 "nbformat_minor": 4
}
