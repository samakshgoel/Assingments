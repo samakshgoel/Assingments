{
 "cells": [
  {
   "cell_type": "raw",
   "metadata": {},
   "source": [
    "Q1. What is the purpose of Python's OOP?\n",
    "\n",
    "Answer 1\n",
    "\n",
    "Because of OOPS in python we can acheive many task easily as it mentions below :-\n",
    "--Through inheritance we can achieve reusability. Also eliminate redundant code.\n",
    "--The principle of data hiding helps to build secure program.\n",
    "--Since java objects represent real world object, so oops provide a clear structure of the program which becomes easy to map real world problem and give solution.\n",
    "--It enhances program modularity since each object exists independently."
   ]
  },
  {
   "cell_type": "raw",
   "metadata": {},
   "source": [
    "Q2. Where does an inheritance search look for an attribute?\n",
    "\n",
    "Answer 2\n",
    "\n",
    "In Python inheritance happens when an object is qualified and involves searching an attribute definition tree (one or more namespaces). Every time you use an expression of the form object's attribute where object is an instance or class object, Python searches the namespace tree at and above object, for the first attribute it can find."
   ]
  },
  {
   "cell_type": "raw",
   "metadata": {},
   "source": [
    "Q3. How do you distinguish between a class object and an instance object?\n",
    "\n",
    "Answer 3\n",
    "CLASS OBJECT\n",
    "when we create a class in python then a class object is created so whenever python finds a class statement in the whole program then it creates a class object and assigns a name to that object i.e. class name. As we know in python, everything is an object so the class itself is an object and is the instance of metaclasses. \n",
    "Look at the following example\n",
    "\n",
    "class MyClass:\n",
    " pass\n",
    " \n",
    " \n",
    "INSTANCE OBJECT\n",
    "when we call a class, it creates an instance object of that class from which the object has been created. For example when we call the above-created class then it will create an instance object like this.\n",
    "\n",
    "Obj1=MyClass()\n",
    "the above statement creates an object and names it to Obj1 which is an instance of MyClass"
   ]
  },
  {
   "cell_type": "raw",
   "metadata": {},
   "source": [
    "Q4. What makes the first argument in a class’s method function special?\n",
    "\n",
    "Answer 4\n",
    "The first parameter in the class method is the class on which you are calling the method, not (necessarily) the class that defines the method. (Having a variable that always holds the same class would probably not be that useful.)\n",
    "\n",
    "In the first case, name mangling distinguishes the two fields, to protect you from accidentally shadowing private variables in a subclass. The field A.__x becomes A._A__x and B.__x becomes B._B__x. This ensures that you can't accidentally pick up a field in a subclass with a similar name to your private field in A. That's part of the reason name mangling exists.\n",
    "\n",
    "In the second case, there is no name mangling: you get the x field as defined in B, the class you are calling the method on."
   ]
  },
  {
   "cell_type": "raw",
   "metadata": {},
   "source": [
    "Q5. What is the purpose of the __init__ method?\n",
    "\n",
    "Answer 5\n",
    "\n",
    "All classes have a function called __init__(), which is always executed when the class is being initiated.\n",
    "Use the __init__() function to assign values to object properties, or other operations that are necessary to do when the object is being created\n",
    "\n",
    "class Person:\n",
    "  def __init__(self, name, age):\n",
    "    self.name = name\n",
    "    self.age = age\n",
    "\n",
    "p1 = Person(\"John\", 36)\n",
    "\n",
    "print(p1.name)\n",
    "print(p1.age)"
   ]
  },
  {
   "cell_type": "raw",
   "metadata": {},
   "source": [
    "Q6. What is the process for creating a class instance?\n",
    "\n",
    "Answer-6\n",
    "To create instances of a class, you call the class using class name and pass in whatever arguments its __init__ method accepts.\n",
    "Example--\n",
    "\n",
    "class Employee:\n",
    "\n",
    "   empCount = 0\n",
    "   def __init__(self, name, salary):\n",
    "      self.name = name\n",
    "      self.salary = salary\n",
    "      Employee.empCount += 1\n",
    "   def displayCount(self):\n",
    "   print \"Total Employee %d\" % Employee.empCount\n",
    "   def displayEmployee(self):\n",
    "      print \"Name : \", self.name, \", Salary: \", self.salary\n",
    "      \n",
    "#creating instance of class\n",
    "emp1 = Employee(\"Zara\", 2000)\n",
    "emp2 = Employee(\"Manni\", 5000)\n",
    "emp1.displayEmployee()\n",
    "emp2.displayEmployee()\n",
    "print \"Total Employee %d\" % Employee.empCount"
   ]
  },
  {
   "cell_type": "raw",
   "metadata": {},
   "source": [
    "Q7. What is the process for creating a class?\n",
    "\n",
    "Answer-7\n",
    "\n",
    "The class statement creates a new class definition. The name of the class immediately follows the keyword class followed by a colon as follows −\n",
    "\n",
    "class ClassName:\n",
    "'Optional class documentation string'\n",
    "class_suite\n",
    "\n",
    "\n",
    "--The class has a documentation string, which can be accessed via ClassName.__doc__.\n",
    "--The class_suite consists of all the component statements defining class members, data attributes and functions.\n"
   ]
  },
  {
   "cell_type": "raw",
   "metadata": {},
   "source": [
    "Q8. How would you define the superclasses of a class?\n",
    "\n",
    "Answer--8\n",
    "\n",
    "A superclass is the class from which many subclasses can be created. The subclasses inherit the characteristics of a superclass. The superclass is also known as the parent class or base class.\n",
    "\n",
    "For example, Vehicle is the Superclass and its subclasses are Car, Truck and Motorcycle"
   ]
  }
 ],
 "metadata": {
  "kernelspec": {
   "display_name": "Python 3",
   "language": "python",
   "name": "python3"
  },
  "language_info": {
   "codemirror_mode": {
    "name": "ipython",
    "version": 3
   },
   "file_extension": ".py",
   "mimetype": "text/x-python",
   "name": "python",
   "nbconvert_exporter": "python",
   "pygments_lexer": "ipython3",
   "version": "3.8.5"
  }
 },
 "nbformat": 4,
 "nbformat_minor": 4
}
