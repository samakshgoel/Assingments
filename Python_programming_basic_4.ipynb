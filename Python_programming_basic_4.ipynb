{
 "cells": [
  {
   "cell_type": "code",
   "execution_count": 1,
   "metadata": {},
   "outputs": [
    {
     "name": "stdout",
     "output_type": "stream",
     "text": [
      "enter the number: 5\n",
      "120\n"
     ]
    }
   ],
   "source": [
    "#1. Write a Python Program to Find the Factorial of a Number?\n",
    "num = int(input(\"enter the number: \"))\n",
    "if num>0 :\n",
    "    fact = 1\n",
    "    for i in range(num,1,-1):\n",
    "        fact = fact*i\n",
    "else:\n",
    "    print(\"Factorial is not possible!\")\n",
    "print(fact)"
   ]
  },
  {
   "cell_type": "code",
   "execution_count": 2,
   "metadata": {},
   "outputs": [
    {
     "name": "stdout",
     "output_type": "stream",
     "text": [
      "enter the number: 6\n",
      "6 x 1 = 6\n",
      "6 x 2 = 12\n",
      "6 x 3 = 18\n",
      "6 x 4 = 24\n",
      "6 x 5 = 30\n",
      "6 x 6 = 36\n",
      "6 x 7 = 42\n",
      "6 x 8 = 48\n",
      "6 x 9 = 54\n",
      "6 x 10 = 60\n"
     ]
    }
   ],
   "source": [
    "#2. Write a Python Program to Display the multiplication Table?\n",
    "num = int(input(\"enter the number: \"))\n",
    "for i in range(1,11):\n",
    "    print(\"{} x {} = {}\".format(num,i,num*i))\n",
    "    "
   ]
  },
  {
   "cell_type": "code",
   "execution_count": 7,
   "metadata": {},
   "outputs": [
    {
     "name": "stdout",
     "output_type": "stream",
     "text": [
      "enter the number: 10\n",
      "0 1 1 2 3 5 8 13 21 34 "
     ]
    }
   ],
   "source": [
    "#3. Write a Python Program to Print the Fibonacci sequence?\n",
    "num = int(input(\"enter the number: \"))\n",
    "a = 0\n",
    "b = 1\n",
    "for i in range(1,num+1):\n",
    "    print(a,end=\" \")\n",
    "    a, b = b,a+b\n",
    "   "
   ]
  },
  {
   "cell_type": "code",
   "execution_count": 14,
   "metadata": {},
   "outputs": [
    {
     "name": "stdout",
     "output_type": "stream",
     "text": [
      "enter the number: 1634\n",
      "1634 is an arstrong number\n"
     ]
    }
   ],
   "source": [
    "#4. Write a Python Program to Check Armstrong Number?\n",
    "num = int(input(\"enter the number: \"))\n",
    "order = len(str(num))\n",
    "c = str(num)\n",
    "sum=0\n",
    "for i in range(order):\n",
    "    sum = sum +int(c[i])**order\n",
    "if sum == num:\n",
    "    print(\"{} is an arstrong number\".format(num))\n",
    "else:\n",
    "    print(\"{} is not an arstrong number\".format(num))\n",
    "    "
   ]
  },
  {
   "cell_type": "code",
   "execution_count": 20,
   "metadata": {},
   "outputs": [
    {
     "name": "stdout",
     "output_type": "stream",
     "text": [
      "enter the upper bound: 250\n",
      "enter the lower bound: 1\n",
      "[1, 2, 3, 4, 5, 6, 7, 8, 9, 153]\n"
     ]
    }
   ],
   "source": [
    "#5. Write a Python Program to Find Armstrong Number in an Interval?\n",
    "up = int(input(\"enter the upper bound: \"))\n",
    "lw = int(input(\"enter the lower bound: \")) \n",
    "armstrong = []\n",
    "for i in range(lw,up+1):\n",
    "    order = len(str(i))\n",
    "    c = str(i)\n",
    "    sum = 0\n",
    "    for j in range(order):\n",
    "        sum = sum +int(c[j])**order\n",
    "    if sum == i:\n",
    "        armstrong.append(i)\n",
    "print(armstrong)"
   ]
  },
  {
   "cell_type": "code",
   "execution_count": 22,
   "metadata": {},
   "outputs": [
    {
     "name": "stdout",
     "output_type": "stream",
     "text": [
      "enter the number: 11\n",
      "Sum of 11 natural number is 66\n"
     ]
    }
   ],
   "source": [
    "#6. Write a Python Program to Find the Sum of Natural Numbers?\n",
    "num = int(input(\"enter the number: \"))\n",
    "sum = 0\n",
    "if num>=1:\n",
    "    for i in range(1,num+1):\n",
    "        sum = sum+i\n",
    "else:\n",
    "    print(\"Please give a natural number\")\n",
    "print(\"Sum of {} natural number is {}\".format(num,sum))"
   ]
  },
  {
   "cell_type": "code",
   "execution_count": null,
   "metadata": {},
   "outputs": [],
   "source": []
  }
 ],
 "metadata": {
  "kernelspec": {
   "display_name": "Python 3",
   "language": "python",
   "name": "python3"
  },
  "language_info": {
   "codemirror_mode": {
    "name": "ipython",
    "version": 3
   },
   "file_extension": ".py",
   "mimetype": "text/x-python",
   "name": "python",
   "nbconvert_exporter": "python",
   "pygments_lexer": "ipython3",
   "version": "3.8.5"
  }
 },
 "nbformat": 4,
 "nbformat_minor": 4
}
