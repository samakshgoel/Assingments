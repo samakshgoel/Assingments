{
 "cells": [
  {
   "cell_type": "code",
   "execution_count": 2,
   "metadata": {},
   "outputs": [
    {
     "name": "stdout",
     "output_type": "stream",
     "text": [
      "The original dictionary is : {'a': [6, 7, 4, 6], 'b': [8, 9, 5], 'c': [2, 5, 3, 7], 'd': [6, 8, 5, 2]}\n",
      "Extracted items : {2, 3, 4, 5, 6, 7, 8, 9}\n"
     ]
    }
   ],
   "source": [
    "#1. Write a Python program to Extract Unique values dictionary values?\n",
    "dict = {\"a\" : [6, 7, 4, 6], \"b\" : [8, 9, 5],\"c\" : [2, 5, 3, 7],  \"d\" : [6, 8, 5, 2]}\n",
    "\n",
    "print(\"The original dictionary is : \" + str(dict))\n",
    "  \n",
    "res = set()\n",
    "for key in dict:\n",
    "    for ele in dict[key]:\n",
    "        res.add(ele)\n",
    "  \n",
    "\n",
    "print(\"Extracted items : \" + str(res)) "
   ]
  },
  {
   "cell_type": "code",
   "execution_count": 6,
   "metadata": {},
   "outputs": [
    {
     "name": "stdout",
     "output_type": "stream",
     "text": [
      "Sum of dictionary values : 15\n"
     ]
    }
   ],
   "source": [
    "#2. Write a Python program to find the sum of all items in a dictionary?\n",
    "def Sum_of_items(my_dict):\n",
    "    \n",
    "    sum = 0\n",
    "    for i in my_dict.values():\n",
    "        sum = sum + i\n",
    "    return sum\n",
    "\n",
    "dict = {'a': 1, 'b':2, 'c':3, 'd':4, 'e':5}\n",
    "print(\"Sum of dictionary values :\", Sum_of_items(dict))"
   ]
  },
  {
   "cell_type": "code",
   "execution_count": 7,
   "metadata": {},
   "outputs": [
    {
     "name": "stdout",
     "output_type": "stream",
     "text": [
      "{'a': [6, 7, 4, 6], 'b': [8, 9, 5], 'c': [2, 5, 3, 7], 'd': [6, 8, 5, 2], 'T': 1, 'U': 2, 'x': 3, 'O': 4, 'R': 5}\n"
     ]
    }
   ],
   "source": [
    "#3. Write a Python program to Merging two Dictionaries?\n",
    "dict = {\"a\" : [6, 7, 4, 6], \"b\" : [8, 9, 5],\"c\" : [2, 5, 3, 7],  \"d\" : [6, 8, 5, 2]}\n",
    "dict1 = {'T': 1, 'U':2, 'x':3, 'O':4, 'R':5}\n",
    "dict.update(dict1)\n",
    "print(dict)"
   ]
  },
  {
   "cell_type": "code",
   "execution_count": 11,
   "metadata": {},
   "outputs": [],
   "source": [
    "#4. Write a Python program to convert key-values list to flat dictionary?\n"
   ]
  },
  {
   "cell_type": "code",
   "execution_count": 9,
   "metadata": {},
   "outputs": [
    {
     "name": "stdout",
     "output_type": "stream",
     "text": [
      "Original dictionary :  OrderedDict([('javascript', '4'), ('python', '12')])\n",
      "Enter the key-value pair to be added in the OrderedDict\n",
      "key : 5\n",
      "value : a\n",
      "Resultant Dictionary :OrderedDict([('5', 'a'), ('javascript', '4'), ('python', '12')])\n"
     ]
    }
   ],
   "source": [
    "#5. Write a Python program to insertion at the beginning in OrderedDict?\n",
    "from collections import OrderedDict\n",
    "myDict = OrderedDict([('javascript', '4'), ('python', '12')])\n",
    "print(\"Original dictionary : \", str(myDict))\n",
    "\n",
    "print(\"Enter the key-value pair to be added in the OrderedDict\")\n",
    "key = input(\"key : \")\n",
    "value = input(\"value : \")\n",
    "addedDict = OrderedDict([(key, value)])\n",
    "\n",
    " \n",
    "newOrderedDict = OrderedDict(list(addedDict.items()) + list(myDict.items()))\n",
    "\n",
    "\n",
    "print (\"Resultant Dictionary :\"+str(newOrderedDict))"
   ]
  },
  {
   "cell_type": "code",
   "execution_count": 12,
   "metadata": {},
   "outputs": [
    {
     "name": "stdout",
     "output_type": "stream",
     "text": [
      "Enter the input: samaksh goel\n",
      "Enter the input: sam\n",
      "The order of pattern is correct\n"
     ]
    }
   ],
   "source": [
    "#6. Write a Python program to check order of character in string using OrderedDict()?\n",
    "from collections import OrderedDict\n",
    "def check_order(my_input, my_pattern):\n",
    "    my_dict = OrderedDict.fromkeys(my_input)\n",
    "    pattern_length = 0\n",
    "    for key,value in my_dict.items():\n",
    "        \n",
    "        if (key == my_pattern[pattern_length]):\n",
    "            pattern_length = pattern_length + 1\n",
    "\n",
    "        if (pattern_length == (len(my_pattern))):\n",
    "            return 'The order of pattern is correct'\n",
    "\n",
    "    return 'The order of pattern is incorrect'\n",
    "\n",
    "my_input = input(\"Enter the input: \")\n",
    "input_pattern = input(\"Enter the input: \")\n",
    "\n",
    "print(check_order(my_input,input_pattern))"
   ]
  },
  {
   "cell_type": "code",
   "execution_count": 1,
   "metadata": {},
   "outputs": [
    {
     "name": "stdout",
     "output_type": "stream",
     "text": [
      "The keys and values after sorting on the based of keys are : \n",
      "(1, 2)\n",
      "(2, 56)\n",
      "(3, 323)\n",
      "(4, 24)\n",
      "(5, 12)\n",
      "(6, 18)\n"
     ]
    }
   ],
   "source": [
    "#7. Write a Python program to sort Python Dictionaries by Key or Value?\n",
    "def my_dict():\n",
    "    \n",
    "\n",
    "    my_key_value_pair ={}\n",
    "\n",
    "    my_key_value_pair[2] = 56\n",
    "    my_key_value_pair[1] = 2\n",
    "    my_key_value_pair[5] = 12\n",
    "    my_key_value_pair[4] = 24\n",
    "    my_key_value_pair[6] = 18\n",
    "    my_key_value_pair[3] = 323\n",
    "\n",
    "    print (\"The keys and values after sorting on the based of keys are : \")\n",
    "    \n",
    "    for i in sorted (my_key_value_pair) :\n",
    "        print((i, my_key_value_pair[i]))\n",
    "\n",
    "my_dict()"
   ]
  },
  {
   "cell_type": "code",
   "execution_count": null,
   "metadata": {},
   "outputs": [],
   "source": []
  }
 ],
 "metadata": {
  "kernelspec": {
   "display_name": "Python 3",
   "language": "python",
   "name": "python3"
  },
  "language_info": {
   "codemirror_mode": {
    "name": "ipython",
    "version": 3
   },
   "file_extension": ".py",
   "mimetype": "text/x-python",
   "name": "python",
   "nbconvert_exporter": "python",
   "pygments_lexer": "ipython3",
   "version": "3.8.5"
  }
 },
 "nbformat": 4,
 "nbformat_minor": 4
}
