{
 "cells": [
  {
   "cell_type": "code",
   "execution_count": 1,
   "metadata": {},
   "outputs": [
    {
     "name": "stdout",
     "output_type": "stream",
     "text": [
      "Enter the number: 400\n",
      "0\n",
      "7\n",
      "14\n",
      "21\n",
      "28\n",
      "35\n",
      "42\n",
      "49\n",
      "56\n",
      "63\n",
      "70\n",
      "77\n",
      "84\n",
      "91\n",
      "98\n",
      "105\n",
      "112\n",
      "119\n",
      "126\n",
      "133\n",
      "140\n",
      "147\n",
      "154\n",
      "161\n",
      "168\n",
      "175\n",
      "182\n",
      "189\n",
      "196\n",
      "203\n",
      "210\n",
      "217\n",
      "224\n",
      "231\n",
      "238\n",
      "245\n",
      "252\n",
      "259\n",
      "266\n",
      "273\n",
      "280\n",
      "287\n",
      "294\n",
      "301\n",
      "308\n",
      "315\n",
      "322\n",
      "329\n",
      "336\n",
      "343\n",
      "350\n",
      "357\n",
      "364\n",
      "371\n",
      "378\n",
      "385\n",
      "392\n",
      "399\n"
     ]
    }
   ],
   "source": [
    "# #Question 1:\n",
    "# Define a class with a generator which can iterate the numbers, which are divisible by\n",
    "# 7, between a given range 0 and n.\n",
    "\n",
    "def gen(n):\n",
    "    for i in range(n):\n",
    "        if i%7==0:\n",
    "            yield i\n",
    "\n",
    "num = int(input(\"Enter the number: \"))\n",
    "for i in gen(num):\n",
    "    print(i)"
   ]
  },
  {
   "cell_type": "code",
   "execution_count": 2,
   "metadata": {},
   "outputs": [
    {
     "name": "stdout",
     "output_type": "stream",
     "text": [
      "2:2\n",
      "3.:1\n",
      "3?:1\n",
      "New:1\n",
      "Python:5\n",
      "Read:1\n",
      "and:1\n",
      "between:1\n",
      "choosing:1\n",
      "or:2\n",
      "to:1\n"
     ]
    }
   ],
   "source": [
    "# Question 2:\n",
    "# Write a program to compute the frequency of the words from the input. The output\n",
    "# should output after sorting the key alphanumerically.\n",
    "# Suppose the following input is supplied to the program:\n",
    "# New to Python or choosing between Python 2 and Python 3? Read Python 2 or\n",
    "# Python 3.\n",
    "# Then, the output should be:\n",
    "# 2:2\n",
    "# 3.:1\n",
    "# 3?:1\n",
    "# New:1\n",
    "# Python:5\n",
    "# Read:1\n",
    "# and:1\n",
    "# between:1\n",
    "# choosing:1\n",
    "# or:2\n",
    "# to:1\n",
    "\n",
    "my_str = \"New to Python or choosing between Python 2 and Python 3? Read Python 2 or Python 3.\"\n",
    "b = list(my_str.rsplit(\" \"))\n",
    "b.sort()\n",
    "\n",
    "dic = {}\n",
    "\n",
    "for i in b:\n",
    "    if i in dic:\n",
    "        dic[i] += 1\n",
    "    else:\n",
    "        dic[i] = 1\n",
    "\n",
    "for i in dic.keys():\n",
    "    print(str(i)+\":\"+str(dic.get(i)))"
   ]
  },
  {
   "cell_type": "code",
   "execution_count": 3,
   "metadata": {},
   "outputs": [
    {
     "name": "stdout",
     "output_type": "stream",
     "text": [
      "I am Male\n",
      "I am Female\n"
     ]
    }
   ],
   "source": [
    "# Question 3:\n",
    "# Define a class Person and its two child classes: Male and Female. All classes have a\n",
    "# method &quot;getGender&quot; which can print &quot;Male&quot; for Male class and &quot;Female&quot; for Female\n",
    "# class.\n",
    "\n",
    "class person():\n",
    "    def get_gender():\n",
    "        print(\"Don't Know\")\n",
    "class Male(person):\n",
    "    def get_gender():\n",
    "        print(\"I am Male\")\n",
    "\n",
    "class Female(person):\n",
    "    def get_gender():\n",
    "        print(\"I am Female\")\n",
    "\n",
    "male = Male.get_gender()\n",
    "female = Female.get_gender()"
   ]
  },
  {
   "cell_type": "code",
   "execution_count": 4,
   "metadata": {},
   "outputs": [
    {
     "name": "stdout",
     "output_type": "stream",
     "text": [
      "I Play Hockey\n",
      "I Play Football\n",
      "I Love Hockey\n",
      "I Love Football\n",
      "You Play Hockey\n",
      "You Play Football\n",
      "You Love Hockey\n",
      "You Love Football\n"
     ]
    }
   ],
   "source": [
    "# Question 4:\n",
    "# Please write a program to generate all sentences where subject is in [&quot;I&quot;, &quot;You&quot;] and\n",
    "# verb is in [&quot;Play&quot;, &quot;Love&quot;] and the object is in [&quot;Hockey&quot;,&quot;Football&quot;].\n",
    "\n",
    "subject = [\"I\",\"You\"]\n",
    "verb = [\"Play\",\"Love\"]\n",
    "obj = [\"Hockey\",\"Football\"]\n",
    "\n",
    "for i in subject:\n",
    "    for j in verb:\n",
    "        for k in obj:\n",
    "            print(\"{} {} {}\".format(i,j,k))"
   ]
  },
  {
   "cell_type": "code",
   "execution_count": 6,
   "metadata": {},
   "outputs": [
    {
     "name": "stdout",
     "output_type": "stream",
     "text": [
      "Enter the string: hello world!hello world!hello world!hello world!\n",
      "Compressed String\n",
      "b'x\\x9c\\xcbH\\xcd\\xc9\\xc9W(\\xcf/\\xcaIQ\\xcc \\x82\\r\\x00\\xbd[\\x11\\xf5'\n",
      "\n",
      "Decompressed String\n",
      "b'hello world!hello world!hello world!hello world!'\n"
     ]
    }
   ],
   "source": [
    "# Question 5:\n",
    "# Please write a program to compress and decompress the string &quot;hello world!hello\n",
    "# world!hello world!hello world!&quot;.\n",
    "\n",
    "import zlib\n",
    "  \n",
    "user_input = input(\"Enter the string: \")\n",
    "s = bytes(user_input,'utf-8')\n",
    "   \n",
    "\n",
    "t = zlib.compress(s)\n",
    "print(\"Compressed String\")\n",
    "print(t)\n",
    "  \n",
    "print(\"\\nDecompressed String\")\n",
    "print(zlib.decompress(t))"
   ]
  },
  {
   "cell_type": "code",
   "execution_count": 7,
   "metadata": {},
   "outputs": [
    {
     "name": "stdout",
     "output_type": "stream",
     "text": [
      "Element is present at index 4\n"
     ]
    }
   ],
   "source": [
    "# Question 6:\n",
    "# Please write a binary search function which searches an item in a sorted list. The\n",
    "# function should return the index of element to be searched in the list.\n",
    "\n",
    "def binary_search(my_list, n):  \n",
    "    low = 0  \n",
    "    high = len(my_list) - 1  \n",
    "    mid = 0  \n",
    "  \n",
    "    while low <= high:  \n",
    "     \n",
    "        mid = (high + low) // 2  \n",
    "     \n",
    "        if my_list[mid] < n:  \n",
    "            low = mid + 1  \n",
    "     \n",
    "        elif my_list[mid] > n:  \n",
    "            high = mid - 1  \n",
    " \n",
    "        else:  \n",
    "            return mid  \n",
    "  \n",
    "    return -1  \n",
    "  \n",
    "  \n",
    "  \n",
    "list = [12, 24, 32, 39, 45, 50, 54]  \n",
    "n = 45   \n",
    "result = binary_search(list, n)  \n",
    "  \n",
    "if result != -1:  \n",
    "    print(\"Element is present at index\", str(result))  \n",
    "else:  \n",
    "    print(\"Element is not present in list1\") "
   ]
  },
  {
   "cell_type": "code",
   "execution_count": null,
   "metadata": {},
   "outputs": [],
   "source": []
  }
 ],
 "metadata": {
  "kernelspec": {
   "display_name": "Python 3",
   "language": "python",
   "name": "python3"
  },
  "language_info": {
   "codemirror_mode": {
    "name": "ipython",
    "version": 3
   },
   "file_extension": ".py",
   "mimetype": "text/x-python",
   "name": "python",
   "nbconvert_exporter": "python",
   "pygments_lexer": "ipython3",
   "version": "3.8.5"
  }
 },
 "nbformat": 4,
 "nbformat_minor": 4
}
