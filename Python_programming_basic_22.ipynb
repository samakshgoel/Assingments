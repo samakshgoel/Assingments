{
 "cells": [
  {
   "cell_type": "code",
   "execution_count": 1,
   "metadata": {},
   "outputs": [
    {
     "name": "stdout",
     "output_type": "stream",
     "text": [
      "Enter the value of x1\n",
      "Enter the value of y10\n",
      "Enter the value of n3\n"
     ]
    },
    {
     "data": {
      "text/plain": [
       "[3, 6, 9]"
      ]
     },
     "execution_count": 1,
     "metadata": {},
     "output_type": "execute_result"
    }
   ],
   "source": [
    "# Question1\n",
    "# Create a function that takes three parameters where:\n",
    "#  x is the start of the range (inclusive).\n",
    "#  y is the end of the range (inclusive).\n",
    "#  n is the divisor to be checked against.\n",
    "# Return an ordered list with numbers in the range that are divisible by the third parameter n.\n",
    "# Return an empty list if there are no numbers that are divisible by n.\n",
    "\n",
    "x = int(input(\"Enter the value of x\"))\n",
    "y = int(input(\"Enter the value of y\"))\n",
    "n = int(input(\"Enter the value of n\"))\n",
    "def list_operation(x,y,n):\n",
    "    result = []\n",
    "    for i in range(x,y+1):\n",
    "        if(i%n==0):\n",
    "            result.append(i)\n",
    "    return result\n",
    "\n",
    "list_operation(x,y,n)"
   ]
  },
  {
   "cell_type": "code",
   "execution_count": 2,
   "metadata": {},
   "outputs": [
    {
     "data": {
      "text/plain": [
       "False"
      ]
     },
     "execution_count": 2,
     "metadata": {},
     "output_type": "execute_result"
    }
   ],
   "source": [
    "# Question2\n",
    "# Create a function that takes in two lists and returns True if the second list follows the first list\n",
    "# by one element, and False otherwise. In other words, determine if the second list is the first\n",
    "# list shifted to the right by 1.\n",
    "# Examples\n",
    "# simon_says([1, 2], [5, 1]) ➞ True\n",
    "# simon_says([1, 2], [5, 5]) ➞ False\n",
    "# simon_says([1, 2, 3, 4, 5], [0, 1, 2, 3, 4]) ➞ True\n",
    "# simon_says([1, 2, 3, 4, 5], [5, 5, 1, 2, 3]) ➞ False\n",
    "# Notes\n",
    "#  Both input lists will be of the same length, and will have a minimum length of 2.\n",
    "#  The values of the 0-indexed element in the second list and the n-1th indexed element\n",
    "# in the first list do not matter.\n",
    "\n",
    "def simon_says(a=[],b=[]):\n",
    "    if (len(a)>1 and len(b)>1):\n",
    "        for i in range(len(a)-1):\n",
    "            if(int(a[i])!=int(b[i+1])):\n",
    "                return False\n",
    "            else:\n",
    "                return True\n",
    "\n",
    "simon_says([1, 2, 3, 4, 5], [5, 5, 1, 2, 3])"
   ]
  },
  {
   "cell_type": "code",
   "execution_count": 6,
   "metadata": {},
   "outputs": [
    {
     "data": {
      "text/plain": [
       "'CHLN'"
      ]
     },
     "execution_count": 6,
     "metadata": {},
     "output_type": "execute_result"
    }
   ],
   "source": [
    "# Question3\n",
    "# A group of friends have decided to start a secret society. The name will be the first letter of\n",
    "# each of their names, sorted in alphabetical order.\n",
    "# Create a function that takes in a list of names and returns the name of the secret society.\n",
    "\n",
    "# Examples\n",
    "# society_name([&quot;Adam&quot;, &quot;Sarah&quot;, &quot;Malcolm&quot;]) ➞ &quot;AMS&quot;\n",
    "# society_name([&quot;Harry&quot;, &quot;Newt&quot;, &quot;Luna&quot;, &quot;Cho&quot;]) ➞ &quot;CHLN&quot;\n",
    "# society_name([&quot;Phoebe&quot;, &quot;Chandler&quot;, &quot;Rachel&quot;, &quot;Ross&quot;, &quot;Monica&quot;, &quot;Joey&quot;])\n",
    "\n",
    "\n",
    "\n",
    "def society_name(my_list):\n",
    "    res = []\n",
    "    my_list.sort()\n",
    "    for i in range(len(my_list)):\n",
    "        res.append(my_list[i][0])\n",
    "    return \"\".join(res)\n",
    "        \n",
    "society_name([\"Harry\",\"Newt\",\"Luna\",\"Cho\"])\n"
   ]
  },
  {
   "cell_type": "code",
   "execution_count": 7,
   "metadata": {},
   "outputs": [
    {
     "name": "stdout",
     "output_type": "stream",
     "text": [
      "Enter the string: PasSword\n"
     ]
    },
    {
     "data": {
      "text/plain": [
       "False"
      ]
     },
     "execution_count": 7,
     "metadata": {},
     "output_type": "execute_result"
    }
   ],
   "source": [
    "# Question4\n",
    "# An isogram is a word that has no duplicate letters. Create a function that takes a string and\n",
    "# returns either True or False depending on whether or not it&#39;s an &quot;isogram&quot;.\n",
    "# Examples\n",
    "# is_isogram(&quot;Algorism&quot;) ➞ True\n",
    "# is_isogram(&quot;PasSword&quot;) ➞ False\n",
    "# # Not case sensitive.\n",
    "# is_isogram(&quot;Consecutive&quot;) ➞ False\n",
    "# Notes\n",
    "#  Ignore letter case (should not be case sensitive).\n",
    "#  All test cases contain valid one word strings.\n",
    "\n",
    "input_str = input(\"Enter the string: \")\n",
    "\n",
    "def is_isogram(a):\n",
    "    my_str = a.lower()\n",
    "    check = []\n",
    "    for i in my_str:\n",
    "        if i in check:\n",
    "            return False\n",
    "        else:\n",
    "            check.append(i)\n",
    "    return True\n",
    "\n",
    "is_isogram(input_str)"
   ]
  },
  {
   "cell_type": "code",
   "execution_count": 1,
   "metadata": {},
   "outputs": [
    {
     "name": "stdout",
     "output_type": "stream",
     "text": [
      "Enter the string: edabit\n"
     ]
    },
    {
     "data": {
      "text/plain": [
       "False"
      ]
     },
     "execution_count": 1,
     "metadata": {},
     "output_type": "execute_result"
    }
   ],
   "source": [
    "# Question5\n",
    "# Create a function that takes a string and returns True or False, depending on whether the\n",
    "# characters are in order or not.\n",
    "# Examples\n",
    "# is_in_order(&quot;abc&quot;) ➞ True\n",
    "# is_in_order(&quot;edabit&quot;) ➞ False\n",
    "# is_in_order(&quot;123&quot;) ➞ True\n",
    "# is_in_order(&quot;xyzz&quot;) ➞ True\n",
    "# Notes\n",
    "# You don&#39;t have to handle empty strings.\n",
    "\n",
    "a = input(\"Enter the string: \")\n",
    "def is_in_order(a):\n",
    "    b = my_sort(a)\n",
    "    \n",
    "    if(b==a):\n",
    "        return True\n",
    "    else:\n",
    "        return False\n",
    "          \n",
    "def my_sort(a):\n",
    "    a= list(a)\n",
    "    a.sort()\n",
    "    a = ''.join(a)\n",
    "    return a\n",
    "\n",
    "is_in_order(a)"
   ]
  },
  {
   "cell_type": "code",
   "execution_count": null,
   "metadata": {},
   "outputs": [],
   "source": []
  }
 ],
 "metadata": {
  "kernelspec": {
   "display_name": "Python 3",
   "language": "python",
   "name": "python3"
  },
  "language_info": {
   "codemirror_mode": {
    "name": "ipython",
    "version": 3
   },
   "file_extension": ".py",
   "mimetype": "text/x-python",
   "name": "python",
   "nbconvert_exporter": "python",
   "pygments_lexer": "ipython3",
   "version": "3.8.5"
  }
 },
 "nbformat": 4,
 "nbformat_minor": 4
}
