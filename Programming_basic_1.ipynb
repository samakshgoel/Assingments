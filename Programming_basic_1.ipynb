{
 "cells": [
  {
   "cell_type": "code",
   "execution_count": 1,
   "metadata": {},
   "outputs": [
    {
     "name": "stdout",
     "output_type": "stream",
     "text": [
      "Hello Python\n"
     ]
    }
   ],
   "source": [
    "#1. Write a Python program to print \"Hello Pyhton\"?\n",
    "print(\"Hello Python\")"
   ]
  },
  {
   "cell_type": "code",
   "execution_count": 13,
   "metadata": {},
   "outputs": [
    {
     "name": "stdout",
     "output_type": "stream",
     "text": [
      "Enter first Number: 5\n",
      "Enter first Number: 0\n",
      "The Sum of 5 and 0 is 5\n",
      "division is possible\n"
     ]
    },
    {
     "data": {
      "text/plain": [
       "(5, '')"
      ]
     },
     "execution_count": 13,
     "metadata": {},
     "output_type": "execute_result"
    }
   ],
   "source": [
    "#2. Write a Python program to do arithmetical operations addition and division.?\n",
    "\n",
    "a = int(input(\"Enter first Number: \"))\n",
    "b = int(input(\"Enter first Number: \"))\n",
    "\n",
    "\n",
    "\n",
    "def arithmetical_operations(a,b):\n",
    "    add = a+b\n",
    "    div = \"\"\n",
    "    print(\"The Sum of {} and {} is {}\".format(a,b,add))\n",
    "    if b<1:\n",
    "        print(\"division is possible\")\n",
    "    else:\n",
    "        div = a/b\n",
    "        print(\"The division of {} and {} is {}\".format(a,b,div))\n",
    "        \n",
    "    return add , div\n",
    "    \n",
    "    \n",
    "arithmetical_operations(a,b) \n",
    "    "
   ]
  },
  {
   "cell_type": "code",
   "execution_count": 22,
   "metadata": {},
   "outputs": [
    {
     "name": "stdout",
     "output_type": "stream",
     "text": [
      "Enter first side: 2\n",
      "Enter second side: 3\n",
      "Enter third side: 4\n"
     ]
    },
    {
     "data": {
      "text/plain": [
       "2.9047375096555625"
      ]
     },
     "execution_count": 22,
     "metadata": {},
     "output_type": "execute_result"
    }
   ],
   "source": [
    "#3. Write a Python program to find the area of a triangle?\n",
    "a = int(input(\"Enter first side: \"))\n",
    "b = int(input(\"Enter second side: \"))\n",
    "c = int(input(\"Enter third side: \"))\n",
    "\n",
    "def areaOfTriangle(x,y,z):\n",
    "    if x>0 and y>0 and z>0:\n",
    "        s = (x+y+z)/2\n",
    "        area = (s*(s-x)*(s-y)*(s-z))**0.5\n",
    "        \n",
    "    else:\n",
    "        print(\"area is not possible\")\n",
    "    \n",
    "    return area\n",
    "        \n",
    "        \n",
    "areaOfTriangle(a,b,c)"
   ]
  },
  {
   "cell_type": "code",
   "execution_count": 24,
   "metadata": {},
   "outputs": [
    {
     "name": "stdout",
     "output_type": "stream",
     "text": [
      "5 10\n"
     ]
    }
   ],
   "source": [
    "#4. Write a Python program to swap two variables?\n",
    "a = 10\n",
    "b= 5 \n",
    "\n",
    "temp =a \n",
    "a = b\n",
    "b = temp \n",
    "print(a,b)\n"
   ]
  },
  {
   "cell_type": "code",
   "execution_count": 31,
   "metadata": {},
   "outputs": [
    {
     "name": "stdout",
     "output_type": "stream",
     "text": [
      "29053\n"
     ]
    }
   ],
   "source": [
    "#5. Write a Python program to generate a random number?\n",
    "import random as r\n",
    "rnumber = r.randint(0,100000)\n",
    "print(rnumber)"
   ]
  },
  {
   "cell_type": "code",
   "execution_count": null,
   "metadata": {},
   "outputs": [],
   "source": []
  },
  {
   "cell_type": "code",
   "execution_count": null,
   "metadata": {},
   "outputs": [],
   "source": []
  }
 ],
 "metadata": {
  "kernelspec": {
   "display_name": "Python 3",
   "language": "python",
   "name": "python3"
  },
  "language_info": {
   "codemirror_mode": {
    "name": "ipython",
    "version": 3
   },
   "file_extension": ".py",
   "mimetype": "text/x-python",
   "name": "python",
   "nbconvert_exporter": "python",
   "pygments_lexer": "ipython3",
   "version": "3.8.5"
  }
 },
 "nbformat": 4,
 "nbformat_minor": 4
}
