{
 "cells": [
  {
   "cell_type": "raw",
   "metadata": {},
   "source": [
    "# 1. In the below elements which of them are values or an expression? eg:- values can be\n",
    "# integer or string and expressions will be mathematical operators.\n",
    "# *\n",
    "# 'hello'\n",
    "# -87.8\n",
    "# -\n",
    "# /\n",
    "# +\n",
    "# 6\n",
    "\n",
    "# Answer :\n",
    "#    * , - , / , + are expressions\n",
    "#    'hello', -87.8 , 6 are values"
   ]
  },
  {
   "cell_type": "raw",
   "metadata": {},
   "source": [
    "# 2. What is the difference between string and variable?\n",
    "\n",
    "\n",
    "Answer 2: \n",
    "\n",
    " variable is kind of identifier which is used to store the value in memory location and manipulate it according to the needs.\n",
    "\n",
    " string is a value which is assign to the variable using single , double or tripple quotes. \n",
    "\n",
    " for example :\n",
    "     a = \"1000\" ( here a is variable and \"1000\" is string)\n",
    "     b = \"sam\"  ( here b is variable and \"sam\" is string)"
   ]
  },
  {
   "cell_type": "raw",
   "metadata": {},
   "source": [
    "3. Describe three different data types.\n",
    "\n",
    "Answer 3: Three data types:\n",
    "1) Integers- This class is represented by 'int'. We can define any postive and negative whole numbers.In python Integer data type has no limit or range. We can not define any fractional or complex value.\n",
    "Example for Integer data type: a = 100 , b = -52 \n",
    "\n",
    "2) String - This class value is declared by using single, double, tripple quotes. We can write bunch of characters in single a quotes. In python we dont have character data type. It is represented by 'str'\n",
    "Example for String data type: a = \"Samaksh\" , b = \"goel\"\n",
    "\n",
    "3) List- List are like arrays in other programming language. We can store multiples data types in list. List is defined by square brackets []. We can also declare list inside the list.\n",
    "Example for Integer data type: a = [100 , \"sam\" , 12.5 , \"a\", [24,\"b\"] , 11]"
   ]
  },
  {
   "cell_type": "raw",
   "metadata": {},
   "source": [
    "4. What is an expression made up of? What do all expressions do?\n",
    "\n",
    "Answer 4: An expression is the combination of both values and operators to do a specifc task and execute to become a single value.There are multiple type of expression + is for addition , - for subtraction , * for multiplication.\n",
    "Example for expression : 12 + 24 -4 = 32\n",
    "Expression is used for doing the desired task"
   ]
  },
  {
   "cell_type": "raw",
   "metadata": {},
   "source": [
    "5. This assignment statements, like spam = 10. What is the difference between an\n",
    "expression and a statement?\n",
    "\n",
    "Answer 5- Assigment statement is used for assigning the values in a particular variable.In assignment statement we use = expression to assign the value. Where as expression are used for multiple reason for eg doing airthmetic operation and for comparision operation we used the expression.\n",
    "Example:\n",
    "a = 10 (assignment statement)\n",
    "a>5 (Expression)"
   ]
  },
  {
   "cell_type": "raw",
   "metadata": {},
   "source": [
    "6. After running the following code, what does the variable bacon contain?\n",
    "bacon = 22\n",
    "bacon + 1\n",
    "\n",
    "Answer 6: Variable bacon contain the integer value of 23. As bacon+1 increments the value by 1.\n"
   ]
  },
  {
   "cell_type": "raw",
   "metadata": {},
   "source": [
    "7. What should the values of the following two terms be?\n",
    "'spam' + 'spamspam'\n",
    "'spam' * 3\n",
    "\n",
    "Answer 7 : Both will give the same result. Resulted value will be 'spamspamspam' .\n",
    "In first we are concatination of the strings \n",
    "In Second we are doing the same thing through matheatical operator"
   ]
  },
  {
   "cell_type": "raw",
   "metadata": {},
   "source": [
    "8. Why is eggs a valid variable name while 100 is invalid?\n",
    "\n",
    "Answer 8: 100 is invalid because we can't assign the variable name in integer.We can only assign the variable in aplphabets thats why eggs is a vaild variable name."
   ]
  },
  {
   "cell_type": "raw",
   "metadata": {},
   "source": [
    "9. What three functions can be used to get the integer, floating-point number, or string\n",
    "version of a value?\n",
    "\n",
    "Answer 9: For Integer we use int() function. This function is only take integer value. Example code - int(input(\"Enter the integer: \"))\n",
    "\n",
    "for Float we use float() function. This function takes float value. Example code - float(input(\"Enter the float value: \"))\n",
    "\n",
    "for String we use input() function. This is by default function is only take String value. Example code - input(\"Enter the String: \")"
   ]
  },
  {
   "cell_type": "raw",
   "metadata": {},
   "source": [
    "10. Why does this expression cause an error? How can you fix it?\n",
    "'I have eaten ' + 99 + ' burritos'\n",
    "\n",
    "Answer 10: Because we concatination of string and integer which is not possible. To resolve this error we have to typecast the int data type to string data type by using str()\n",
    "\n",
    "'I have eaten ' + str(99) + ' burritos'\n",
    "Output::'I have eaten 99 burritos'\n"
   ]
  }
 ],
 "metadata": {
  "kernelspec": {
   "display_name": "Python 3",
   "language": "python",
   "name": "python3"
  },
  "language_info": {
   "codemirror_mode": {
    "name": "ipython",
    "version": 3
   },
   "file_extension": ".py",
   "mimetype": "text/x-python",
   "name": "python",
   "nbconvert_exporter": "python",
   "pygments_lexer": "ipython3",
   "version": "3.8.5"
  }
 },
 "nbformat": 4,
 "nbformat_minor": 4
}
