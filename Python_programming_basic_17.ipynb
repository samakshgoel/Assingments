{
 "cells": [
  {
   "cell_type": "code",
   "execution_count": 2,
   "metadata": {},
   "outputs": [
    {
     "name": "stdout",
     "output_type": "stream",
     "text": [
      "Enter the number1,10,3\n"
     ]
    },
    {
     "data": {
      "text/plain": [
       "18"
      ]
     },
     "execution_count": 2,
     "metadata": {},
     "output_type": "execute_result"
    }
   ],
   "source": [
    "# Question1. Create a function that takes three arguments a, b, c and returns the sum of the\n",
    "# numbers that are evenly divided by c from the range a, b inclusive.\n",
    "# Examples\n",
    "# evenly_divisible(1, 10, 20) ➞ 0\n",
    "# # No number between 1 and 10 can be evenly divided by 20.\n",
    "# evenly_divisible(1, 10, 2) ➞ 30\n",
    "# # 2 + 4 + 6 + 8 + 10 = 30\n",
    "# evenly_divisible(1, 10, 3) ➞ 18\n",
    "# # 3 + 6 + 9 = 18\n",
    "\n",
    "a,b,c = input(\"Enter the number\").split(\",\")\n",
    "def evenly_divisible(a,b,c):\n",
    "    result =0\n",
    "    for i in range(int(a),int(b)+1):\n",
    "        if i%int(c)==0:\n",
    "            result += i\n",
    "    return result\n",
    "evenly_divisible(a,b,c)"
   ]
  },
  {
   "cell_type": "code",
   "execution_count": 1,
   "metadata": {},
   "outputs": [
    {
     "name": "stdout",
     "output_type": "stream",
     "text": [
      "Enter the stringminnie mouse\n",
      "Enter the symbol?\n",
      "m?nn?? m??s?"
     ]
    }
   ],
   "source": [
    "# Question2. Create a function that returns True if a given inequality expression is correct and\n",
    "# False otherwise.\n",
    "# Examples\n",
    "# correct_signs(&quot;3 &lt; 7 &lt; 11&quot;) ➞ True\n",
    "# correct_signs(&quot;13 &gt; 44 &gt; 33 &gt; 1&quot;) ➞ False\n",
    "# correct_signs(&quot;1 &lt; 2 &lt; 6 &lt; 9 &gt; 3&quot;) ➞ True\n",
    "\n",
    "a = input(\"Enter the string\")\n",
    "b = input(\"Enter the symbol\")\n",
    "def replace_vowels(a,b):\n",
    "\n",
    "    r = []\n",
    "    vowels = [\"a\",\"e\",\"i\",\"o\",\"u\"]\n",
    "    for i in a:\n",
    "        if i in vowels:\n",
    "            r.append(b)\n",
    "        else:\n",
    "            r.append(i)\n",
    "    for i in r:\n",
    "        print(i,end=\"\")\n",
    "\n",
    "replace_vowels(a,b)"
   ]
  },
  {
   "cell_type": "code",
   "execution_count": 2,
   "metadata": {},
   "outputs": [
    {
     "name": "stdout",
     "output_type": "stream",
     "text": [
      "Enter the number: 5\n"
     ]
    },
    {
     "data": {
      "text/plain": [
       "120"
      ]
     },
     "execution_count": 2,
     "metadata": {},
     "output_type": "execute_result"
    }
   ],
   "source": [
    "# Question4. Write a function that calculates the factorial of a number recursively.\n",
    "# Examples\n",
    "# factorial(5) ➞ 120\n",
    "# factorial(3) ➞ 6\n",
    "# factorial(1) ➞ 1\n",
    "# factorial(0) ➞ 1\n",
    "\n",
    "num = int(input('Enter the number: '))\n",
    "\n",
    "def factorial(num):\n",
    "    if num==1:\n",
    "        return num\n",
    "    elif num==0:\n",
    "        return 1\n",
    "    else:\n",
    "        return num*factorial(num-1)\n",
    "    \n",
    "\n",
    "factorial(num)  "
   ]
  },
  {
   "cell_type": "code",
   "execution_count": 3,
   "metadata": {},
   "outputs": [
    {
     "name": "stdout",
     "output_type": "stream",
     "text": [
      "Enter the first string string\n",
      "Enter the second string strung\n",
      "1\n"
     ]
    }
   ],
   "source": [
    "# Question 5\n",
    "# Hamming distance is the number of characters that differ between two strings.\n",
    "# To illustrate:\n",
    "# String1: &quot;abcbba&quot;\n",
    "# String2: &quot;abcbda&quot;\n",
    "# Hamming Distance: 1 - &quot;b&quot; vs. &quot;d&quot; is the only difference.\n",
    "# Create a function that computes the hamming distance between two strings.\n",
    "# Examples\n",
    "# hamming_distance(&quot;abcde&quot;, &quot;bcdef&quot;) ➞ 5\n",
    "# hamming_distance(&quot;abcde&quot;, &quot;abcde&quot;) ➞ 0\n",
    "# hamming_distance(&quot;strong&quot;, &quot;strung&quot;) ➞ 1\n",
    "\n",
    "a = input(\"Enter the first string \")\n",
    "b = input(\"Enter the second string \")\n",
    "def hamming_distance(a,b):\n",
    "    a1 = list(a)\n",
    "    b1 = list(b)\n",
    "    count =0\n",
    "    for i in range(len(a)):\n",
    "        if a1[i] != b1[i]:\n",
    "            count += 1\n",
    "    print(count)\n",
    "hamming_distance(a,b)\n"
   ]
  },
  {
   "cell_type": "code",
   "execution_count": null,
   "metadata": {},
   "outputs": [],
   "source": []
  }
 ],
 "metadata": {
  "kernelspec": {
   "display_name": "Python 3",
   "language": "python",
   "name": "python3"
  },
  "language_info": {
   "codemirror_mode": {
    "name": "ipython",
    "version": 3
   },
   "file_extension": ".py",
   "mimetype": "text/x-python",
   "name": "python",
   "nbconvert_exporter": "python",
   "pygments_lexer": "ipython3",
   "version": "3.8.5"
  }
 },
 "nbformat": 4,
 "nbformat_minor": 4
}
