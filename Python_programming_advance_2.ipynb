{
 "cells": [
  {
   "cell_type": "code",
   "execution_count": 1,
   "metadata": {},
   "outputs": [
    {
     "name": "stdout",
     "output_type": "stream",
     "text": [
      "Enter the number8\n"
     ]
    },
    {
     "data": {
      "text/plain": [
       "141"
      ]
     },
     "execution_count": 1,
     "metadata": {},
     "output_type": "execute_result"
    }
   ],
   "source": [
    "# 1. Write a function that takes a positive integer num and calculates how many\n",
    "# dots exist in a pentagonal shape around the center dot on the Nth iteration.\n",
    "# In the image below you can see the first iteration is only a single dot. On the\n",
    "# second, there are 6 dots. On the third, there are 16 dots, and on the fourth\n",
    "# there are 31 dots.\n",
    "\n",
    "# Return the number of dots that exist in the whole pentagon on the Nth\n",
    "# iteration.\n",
    "# Examples\n",
    "# pentagonal(1) ➞ 1\n",
    "# pentagonal(2) ➞ 6\n",
    "# pentagonal(3) ➞ 16\n",
    "# pentagonal(8) ➞ 141\n",
    "\n",
    "n = int(input(\"Enter the number\"))\n",
    "def pentagonal(n):\n",
    "    dots = 0\n",
    "    if(n==1):\n",
    "        return 1\n",
    "    for i in range(1,n):\n",
    "        dots = dots + i*5\n",
    "    return dots +1\n",
    "\n",
    "pentagonal(n)"
   ]
  },
  {
   "cell_type": "code",
   "execution_count": 2,
   "metadata": {},
   "outputs": [
    {
     "name": "stdout",
     "output_type": "stream",
     "text": [
      "Enter the stringburak\n"
     ]
    },
    {
     "data": {
      "text/plain": [
       "'k0r3baca'"
      ]
     },
     "execution_count": 2,
     "metadata": {},
     "output_type": "execute_result"
    }
   ],
   "source": [
    "# 2. Make a function that encrypts a given input with these steps:\n",
    "# Input: &quot;apple&quot;\n",
    "# Step 1: Reverse the input: &quot;elppa&quot;\n",
    "# Step 2: Replace all vowels using the following chart:\n",
    "# a =&gt; 0\n",
    "# e =&gt; 1\n",
    "# i =&gt; 2\n",
    "# o =&gt; 2\n",
    "# u =&gt; 3\n",
    "# # &quot;1lpp0&quot;\n",
    "\n",
    "# Step 3: Add &quot;aca&quot; to the end of the word: &quot;1lpp0aca&quot;\n",
    "# Output: &quot;1lpp0aca&quot;\n",
    "# Examples\n",
    "# encrypt(&quot;banana&quot;) ➞ &quot;0n0n0baca&quot;\n",
    "# encrypt(&quot;karaca&quot;) ➞ &quot;0c0r0kaca&quot;\n",
    "# encrypt(&quot;burak&quot;) ➞ &quot;k0r3baca&quot;\n",
    "# encrypt(&quot;alpaca&quot;) ➞ &quot;0c0pl0aca&quot;\n",
    "\n",
    "a = input(\"Enter the string\")\n",
    "\n",
    "def encrypt(a):\n",
    "    dic = {\"a\": 0 , \"e\":1, \"i\":2, \"o\":2 , \"u\":3}\n",
    "    b = list(a)\n",
    "    b.reverse()\n",
    "    result = []\n",
    "\n",
    "    for i in b:\n",
    "        if i in dic.keys():\n",
    "            result.append(str(dic[i]))\n",
    "        else:\n",
    "            result.append(i)\n",
    "    result.append(\"aca\")\n",
    "    return \"\".join(result)\n",
    "\n",
    "encrypt(a)"
   ]
  },
  {
   "cell_type": "code",
   "execution_count": 3,
   "metadata": {},
   "outputs": [
    {
     "name": "stdout",
     "output_type": "stream",
     "text": [
      "Enter the months: 03\n",
      "Enter the year2020\n"
     ]
    },
    {
     "data": {
      "text/plain": [
       "True"
      ]
     },
     "execution_count": 3,
     "metadata": {},
     "output_type": "execute_result"
    }
   ],
   "source": [
    "# 3. Given the month and year as numbers, return whether that month contains\n",
    "# a Friday 13th.(i.e You can check Python&#39;s datetime module)\n",
    "# Examples\n",
    "# has_friday_13(3, 2020) ➞ True\n",
    "# has_friday_13(10, 2017) ➞ True\n",
    "# has_friday_13(1, 1985) ➞ False\n",
    "\n",
    "import datetime \n",
    "months = int(input(\"Enter the months: \"))\n",
    "year = int(input(\"Enter the year\"))\n",
    "\n",
    "def has_friday(m , y):\n",
    "    date = '13 {} {}'.format(m,y)\n",
    "    day_name= ['Monday', 'Tuesday', 'Wednesday', 'Thursday', 'Friday', 'Saturday','Sunday']\n",
    "    day = datetime.datetime.strptime(date, '%d %m %Y').weekday()\n",
    "    \n",
    "    if(day_name[day] == 'Friday'):\n",
    "        return True\n",
    "    return False\n",
    "has_friday(months,year)"
   ]
  },
  {
   "cell_type": "code",
   "execution_count": 1,
   "metadata": {},
   "outputs": [
    {
     "data": {
      "text/plain": [
       "['cows', 'pig']"
      ]
     },
     "execution_count": 1,
     "metadata": {},
     "output_type": "execute_result"
    }
   ],
   "source": [
    "# 5. Given a list of words in the singular form, return a set of those words in the\n",
    "# plural form if they appear more than once in the list.\n",
    "# Examples\n",
    "# pluralize([&quot;cow&quot;, &quot;pig&quot;, &quot;cow&quot;, &quot;cow&quot;]) ➞ { &quot;cows&quot;, &quot;pig&quot; }\n",
    "# pluralize([&quot;table&quot;, &quot;table&quot;, &quot;table&quot;]) ➞ { &quot;tables&quot; }\n",
    "\n",
    "# pluralize([&quot;chair&quot;, &quot;pencil&quot;, &quot;arm&quot;]) ➞ { &quot;chair&quot;, &quot;pencil&quot;, &quot;arm&quot; }\n",
    "\n",
    "\n",
    "a = [\"cow\", \"pig\",\"cow\",\"cow\"]\n",
    "def pluralize(a):\n",
    "    res = []\n",
    "    for i in a:\n",
    "        if(a.count(i)>1):\n",
    "            b = list(i)\n",
    "            b.append('s')\n",
    "            c= \"\".join(b)\n",
    "            if c not in res:\n",
    "                \n",
    "                res.append(c)\n",
    "        else:\n",
    "            res.append(i)\n",
    "    return res\n",
    "pluralize(a)"
   ]
  },
  {
   "cell_type": "code",
   "execution_count": null,
   "metadata": {},
   "outputs": [],
   "source": []
  }
 ],
 "metadata": {
  "kernelspec": {
   "display_name": "Python 3",
   "language": "python",
   "name": "python3"
  },
  "language_info": {
   "codemirror_mode": {
    "name": "ipython",
    "version": 3
   },
   "file_extension": ".py",
   "mimetype": "text/x-python",
   "name": "python",
   "nbconvert_exporter": "python",
   "pygments_lexer": "ipython3",
   "version": "3.8.5"
  }
 },
 "nbformat": 4,
 "nbformat_minor": 4
}
