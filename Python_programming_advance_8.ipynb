{
 "cells": [
  {
   "cell_type": "code",
   "execution_count": 1,
   "metadata": {},
   "outputs": [
    {
     "data": {
      "text/plain": [
       "True"
      ]
     },
     "execution_count": 1,
     "metadata": {},
     "output_type": "execute_result"
    }
   ],
   "source": [
    "# 1. Given a sentence as txt, return True if any two adjacent words have this\n",
    "# property: One word ends with a vowel, while the word immediately after\n",
    "# begins with a vowel (a e i o u).\n",
    "# Examples\n",
    "# vowel_links(&quot;a very large appliance&quot;) ➞ True\n",
    "# vowel_links(&quot;go to edabit&quot;) ➞ True\n",
    "# vowel_links(&quot;an open fire&quot;) ➞ False\n",
    "# vowel_links(&quot;a sudden applause&quot;) ➞ False\n",
    "\n",
    "def vowel_links(string):\n",
    "    new_string = string.split(\" \")\n",
    "    vowel = {\"a\":1, \"e\":1, \"i\":1 ,\"o\":1 ,\"u\":1}\n",
    "    for i in range(len(new_string)-1):\n",
    "        end_var = new_string[i][len(new_string[i])-1]\n",
    "        start_var = new_string[i+1][0]\n",
    "        if(vowel.get(end_var) and vowel.get(start_var)):\n",
    "            return True\n",
    "    return False\n",
    "\n",
    "vowel_links(\"a very large appliance\")"
   ]
  },
  {
   "cell_type": "code",
   "execution_count": 2,
   "metadata": {},
   "outputs": [
    {
     "data": {
      "text/plain": [
       "True"
      ]
     },
     "execution_count": 2,
     "metadata": {},
     "output_type": "execute_result"
    }
   ],
   "source": [
    "# 2. You are given three inputs: a string, one letter, and a second letter.\n",
    "# Write a function that returns True if every instance of the first letter occurs\n",
    "# before every instance of the second letter.\n",
    "# Examples\n",
    "# first_before_second(&quot;a rabbit jumps joyfully&quot;, &quot;a&quot;, &quot;j&quot;) ➞ True\n",
    "# # Every instance of &quot;a&quot; occurs before every instance of &quot;j&quot;.\n",
    "# first_before_second(&quot;knaves knew about waterfalls&quot;, &quot;k&quot;, &quot;w&quot;) ➞ True\n",
    "# first_before_second(&quot;happy birthday&quot;, &quot;a&quot;, &quot;y&quot;) ➞ False\n",
    "# # The &quot;a&quot; in &quot;birthday&quot; occurs after the &quot;y&quot; in &quot;happy&quot;.\n",
    "# first_before_second(&quot;precarious kangaroos&quot;, &quot;k&quot;, &quot;a&quot;) ➞ False\n",
    "\n",
    "def first_before_second(string,first,second):\n",
    "    string_list = list(string)\n",
    "    count = 0\n",
    "    for i in string_list:\n",
    "        if(i==second):\n",
    "            count += 1\n",
    "        if(count>0 and i==first):\n",
    "            return False\n",
    "    return True\n",
    "\n",
    "first_before_second(\"a rabbit jumps joyfully\",\"a\", \"j\")"
   ]
  },
  {
   "cell_type": "code",
   "execution_count": 3,
   "metadata": {},
   "outputs": [
    {
     "data": {
      "text/plain": [
       "['A', 'B', 'T', 'A', 'I', 'Y']"
      ]
     },
     "execution_count": 3,
     "metadata": {},
     "output_type": "execute_result"
    }
   ],
   "source": [
    "# 3. Create a function that returns the characters from a list or string r on odd or\n",
    "# even positions, depending on the specifier s. The specifier will be &quot;odd&quot; for\n",
    "# items on odd positions (1, 3, 5, ...) and &quot;even&quot; for items on even positions (2,\n",
    "# 4, 6, ...).\n",
    "# Examples\n",
    "# char_at_pos([2, 4, 6, 8, 10], &quot;even&quot;) ➞ [4, 8]\n",
    "# # 4 &amp; 8 occupy the 2nd &amp; 4th positions\n",
    "# char_at_pos(&quot;EDABIT&quot;, &quot;odd&quot;) ➞ &quot;EAI&quot;\n",
    "# # &quot;E&quot;, &quot;A&quot; and &quot;I&quot; occupy the 1st, 3rd and 5th positions\n",
    "\n",
    "# char_at_pos([&quot;A&quot;, &quot;R&quot;, &quot;B&quot;, &quot;I&quot;, &quot;T&quot;, &quot;R&quot;, &quot;A&quot;, &quot;R&quot;, &quot;I&quot;, &quot;L&quot;, &quot;Y&quot;], &quot;odd&quot;) ➞ [&quot;A&quot;,\n",
    "# &quot;B&quot;, &quot;T&quot;, &quot;A&quot;, &quot;I&quot;, &quot;Y&quot;]\n",
    "\n",
    "def char_at_pos(a,action):\n",
    "    start = 0\n",
    "    if(action == \"even\"):\n",
    "        start = 1\n",
    "    res = []\n",
    "    for i in range(start,len(a),2):\n",
    "        res.append(a[i])\n",
    "    \n",
    "    if(type(a) == str):\n",
    "        return \"\".join(res)\n",
    "    else:\n",
    "        return res\n",
    "    \n",
    "char_at_pos([\"A\",\"R\",\"B\",\"I\",\"T\",\"R\",\"A\",\"R\",\"I\",\"L\",\"Y\"],\"odd\")"
   ]
  },
  {
   "cell_type": "code",
   "execution_count": 4,
   "metadata": {},
   "outputs": [
    {
     "data": {
      "text/plain": [
       "64"
      ]
     },
     "execution_count": 4,
     "metadata": {},
     "output_type": "execute_result"
    }
   ],
   "source": [
    "# 4. Write a function that returns the greatest common divisor of all list\n",
    "# elements. If the greatest common divisor is 1, return 1.\n",
    "# Examples\n",
    "# GCD([10, 20, 40]) ➞ 10\n",
    "# GCD([1, 2, 3, 100]) ➞ 1\n",
    "# GCD([1024, 192, 2048, 512]) ➞ 64\n",
    "\n",
    "def GCD(a):\n",
    "    res = a[0]\n",
    "    for x in a[1:]:\n",
    "        if res <x:\n",
    "            x,res = res,x\n",
    "        while x!= 0:\n",
    "            temp = x\n",
    "            x = res%x\n",
    "            res = temp\n",
    "    return res\n",
    "GCD([1024, 192, 2048, 512])"
   ]
  },
  {
   "cell_type": "code",
   "execution_count": 2,
   "metadata": {},
   "outputs": [
    {
     "data": {
      "text/plain": [
       "'Decimal and binary'"
      ]
     },
     "execution_count": 2,
     "metadata": {},
     "output_type": "execute_result"
    }
   ],
   "source": [
    "# 5. A number/string is a palindrome if the digits/characters are the same when\n",
    "# read both forward and backward. Examples include &quot;racecar&quot; and 12321.\n",
    "# Given a positive number n, check if n or the binary representation of n is\n",
    "# palindromic. Return the following:\n",
    "# - &quot;Decimal only.&quot; if only n is a palindrome.\n",
    "# - &quot;Binary only.&quot; if only the binary representation of n is a palindrome.\n",
    "# - &quot;Decimal and binary.&quot; if both are palindromes.\n",
    "# - &quot;Neither!&quot; if neither are palindromes.\n",
    "# Examples\n",
    "# palindrome_type(1306031) ➞ &quot;Decimal only.&quot;\n",
    "# # decimal = 1306031\n",
    "# # binary = &quot;100111110110110101111&quot;\n",
    "# palindrome_type(427787) ➞ &quot;Binary only.&quot;\n",
    "# # decimal = 427787\n",
    "# # binary = &quot;1101000011100001011&quot;\n",
    "# palindrome_type(313) ➞ &quot;Decimal and binary.&quot;\n",
    "# # decimal = 313\n",
    "# # binary = 100111001\n",
    "# palindrome_type(934) ➞ &quot;Neither!&quot;\n",
    "# # decimal = 934\n",
    "# # binary = &quot;1110100110&quot;\n",
    "\n",
    "\n",
    "def decimalToBinary(n):\n",
    "    return int(bin(n).replace(\"0b\", \"\"))\n",
    "\n",
    "def reverse(string):\n",
    "    res = \"\"\n",
    "    for i in string:\n",
    "        res = i + res\n",
    "    return int(res)\n",
    "\n",
    "def palindrome_type(num):\n",
    "    binary = decimalToBinary(num)\n",
    "    reversed_binary = reverse(str(binary))\n",
    "    rversed_num = reverse(str(num))\n",
    "    \n",
    "    if(binary == reversed_binary and rversed_num ==num):\n",
    "        return \"Decimal and binary\"\n",
    "    elif(binary == reversed_binary):\n",
    "        return \"Binary only\"\n",
    "    elif(rversed_num == num):\n",
    "        return \"Decimal only\"\n",
    "    else:\n",
    "        return \"Neither\"\n",
    "\n",
    "palindrome_type(313)"
   ]
  },
  {
   "cell_type": "code",
   "execution_count": null,
   "metadata": {},
   "outputs": [],
   "source": []
  }
 ],
 "metadata": {
  "kernelspec": {
   "display_name": "Python 3",
   "language": "python",
   "name": "python3"
  },
  "language_info": {
   "codemirror_mode": {
    "name": "ipython",
    "version": 3
   },
   "file_extension": ".py",
   "mimetype": "text/x-python",
   "name": "python",
   "nbconvert_exporter": "python",
   "pygments_lexer": "ipython3",
   "version": "3.8.5"
  }
 },
 "nbformat": 4,
 "nbformat_minor": 4
}
