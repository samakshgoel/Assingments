{
 "cells": [
  {
   "cell_type": "code",
   "execution_count": 1,
   "metadata": {},
   "outputs": [
    {
     "name": "stdout",
     "output_type": "stream",
     "text": [
      "Enter the element 1,2,aasf,\"123\",\"1\",123\n",
      "[1, 2, 123]\n"
     ]
    }
   ],
   "source": [
    "# Question 1\n",
    "# Create a function that takes a list of non-negative integers and strings and return a new list\n",
    "# without the strings.\n",
    "# Examples\n",
    "# filter_list([1, 2, &quot;a&quot;, &quot;b&quot;]) ➞ [1, 2]\n",
    "# filter_list([1, &quot;a&quot;, &quot;b&quot;, 0, 15]) ➞ [1, 0, 15]\n",
    "# filter_list([1, 2, &quot;aasf&quot;, &quot;1&quot;, &quot;123&quot;, 123]) ➞ [1, 2, 123]\n",
    "\n",
    "def filter_list():\n",
    "    l = input(\"Enter the element \").split(\",\")\n",
    "    result =[]\n",
    "    for i in l:\n",
    "        if i.isdigit():\n",
    "            result.append(int(i))\n",
    "    print(result)\n",
    "filter_list()"
   ]
  },
  {
   "cell_type": "code",
   "execution_count": 2,
   "metadata": {},
   "outputs": [
    {
     "name": "stdout",
     "output_type": "stream",
     "text": [
      "Enter stringHello World\n",
      "DLROw OLLEh"
     ]
    }
   ],
   "source": [
    "# Question 2\n",
    "# The &quot;Reverser&quot; takes a string as input and returns that string in reverse order, with the\n",
    "# opposite case.\n",
    "# Examples\n",
    "# reverse(&quot;Hello World&quot;) ➞ &quot;DLROw OLLEh&quot;\n",
    "# reverse(&quot;ReVeRsE&quot;) ➞ &quot;eSrEvEr&quot;\n",
    "# reverse(&quot;Radar&quot;) ➞ &quot;RADAr&quot;\n",
    "\n",
    "def reverse():\n",
    "    a =list(input(\"Enter string\"))\n",
    "\n",
    "    result = []\n",
    "    for i in a:\n",
    "        if i.islower():\n",
    "            result.append(i.upper())\n",
    "        elif i.isupper():\n",
    "            result.append(i.lower())\n",
    "        else:\n",
    "            result.append(i)\n",
    "    for i in reversed(result):\n",
    "        print(i,end=\"\")\n",
    "        \n",
    "reverse()"
   ]
  },
  {
   "cell_type": "code",
   "execution_count": 3,
   "metadata": {},
   "outputs": [
    {
     "name": "stdout",
     "output_type": "stream",
     "text": [
      "Enter the number: 5\n"
     ]
    },
    {
     "data": {
      "text/plain": [
       "120"
      ]
     },
     "execution_count": 3,
     "metadata": {},
     "output_type": "execute_result"
    }
   ],
   "source": [
    "# Question 4\n",
    "# Write a function that calculates the factorial of a number recursively.\n",
    "# Examples\n",
    "# factorial(5) ➞ 120\n",
    "# factorial(3) ➞ 6\n",
    "# factorial(1) ➞ 1\n",
    "# factorial(0) ➞ 1\n",
    "\n",
    "num = int(input('Enter the number: '))\n",
    "\n",
    "def factorial(num):\n",
    "    if num==1:\n",
    "        return num\n",
    "    elif num==0:\n",
    "        return 1\n",
    "    else:\n",
    "        return num*factorial(num-1)\n",
    "    \n",
    "\n",
    "factorial(num)"
   ]
  },
  {
   "cell_type": "code",
   "execution_count": 4,
   "metadata": {},
   "outputs": [
    {
     "name": "stdout",
     "output_type": "stream",
     "text": [
      "Enter the numbera,a,a,b\n",
      "Enter the element: b\n",
      "['a', 'a', 'a', 'b']\n"
     ]
    }
   ],
   "source": [
    "# Question 5\n",
    "# Write a function that moves all elements of one type to the end of the list.\n",
    "# Examples\n",
    "# move_to_end([1, 3, 2, 4, 4, 1], 1) ➞ [3, 2, 4, 4, 1, 1]\n",
    "# # Move all the 1s to the end of the array.\n",
    "# move_to_end([7, 8, 9, 1, 2, 3, 4], 9) ➞ [7, 8, 1, 2, 3, 4, 9]\n",
    "# move_to_end([&quot;a&quot;, &quot;a&quot;, &quot;a&quot;, &quot;b&quot;], &quot;a&quot;) ➞ [&quot;b&quot;, &quot;a&quot;, &quot;a&quot;, &quot;a&quot;]\n",
    "\n",
    "\n",
    "\n",
    "def move_to_end():\n",
    "    a = list(input(\"Enter the number\").split(\",\"))\n",
    "    b =input(\"Enter the element: \")\n",
    "    for i in range(len(a)):\n",
    "        if a[i]==b:\n",
    "            a.append(a[i])\n",
    "            a.remove(a[i])\n",
    "            continue\n",
    "    print(a)\n",
    "move_to_end()"
   ]
  },
  {
   "cell_type": "code",
   "execution_count": null,
   "metadata": {},
   "outputs": [],
   "source": []
  }
 ],
 "metadata": {
  "kernelspec": {
   "display_name": "Python 3",
   "language": "python",
   "name": "python3"
  },
  "language_info": {
   "codemirror_mode": {
    "name": "ipython",
    "version": 3
   },
   "file_extension": ".py",
   "mimetype": "text/x-python",
   "name": "python",
   "nbconvert_exporter": "python",
   "pygments_lexer": "ipython3",
   "version": "3.8.5"
  }
 },
 "nbformat": 4,
 "nbformat_minor": 4
}
