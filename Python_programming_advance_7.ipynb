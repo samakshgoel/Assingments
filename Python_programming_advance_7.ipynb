{
 "cells": [
  {
   "cell_type": "code",
   "execution_count": 3,
   "metadata": {},
   "outputs": [
    {
     "name": "stdout",
     "output_type": "stream",
     "text": [
      "AAAAAAAAAAA\n",
      "AABBBBBBBAA\n",
      "AABCCCCCBAA\n",
      "AABCAAACBAA\n",
      "AABCADACBAA\n"
     ]
    },
    {
     "data": {
      "text/plain": [
       "5"
      ]
     },
     "execution_count": 3,
     "metadata": {},
     "output_type": "execute_result"
    }
   ],
   "source": [
    "# 1. Write a function that counts how many concentric layers a rug.\n",
    "# Examples\n",
    "# count_layers([\n",
    "# &quot;AAAA&quot;,\n",
    "# &quot;ABBA&quot;,\n",
    "# &quot;AAAA&quot;\n",
    "# ]) ➞ 2\n",
    "# count_layers([\n",
    "# &quot;AAAAAAAAA&quot;,\n",
    "# &quot;ABBBBBBBA&quot;,\n",
    "# &quot;ABBAAABBA&quot;,\n",
    "# &quot;ABBBBBBBA&quot;,\n",
    "# &quot;AAAAAAAAA&quot;\n",
    "# ]) ➞ 3\n",
    "# count_layers([\n",
    "# &quot;AAAAAAAAAAA&quot;,\n",
    "# &quot;AABBBBBBBAA&quot;,\n",
    "# &quot;AABCCCCCBAA&quot;,\n",
    "# &quot;AABCAAACBAA&quot;,\n",
    "# &quot;AABCADACBAA&quot;,\n",
    "# &quot;AABCAAACBAA&quot;,\n",
    "# &quot;AABCCCCCBAA&quot;,\n",
    "# &quot;AABBBBBBBAA&quot;,\n",
    "# &quot;AAAAAAAAAAA&quot;\n",
    "# ])\n",
    "\n",
    "def count_layers(lst):\n",
    "    layers = lenth = len(lst)\n",
    "    if layers % 2 == 0:\n",
    "        return \"Not a concentric layers\"\n",
    "    else:\n",
    "        mid = len(lst)//2\n",
    "    i = 0\n",
    "    layerCnt = 0\n",
    "    while (i <= mid): \n",
    "        print(lst[lenth-1])\n",
    "        if lst[i] == lst[lenth-1]: \n",
    "            layerCnt +=1\n",
    "            lenth -=1\n",
    "            i +=1\n",
    "        else:\n",
    "            print('not a concentric layer')\n",
    "            return False\n",
    "    return layerCnt\n",
    "\n",
    "count_layers([\"AAAAAAAAAAA\",\"AABBBBBBBAA\",\"AABCCCCCBAA\",\"AABCAAACBAA\",\"AABCADACBAA\",\"AABCAAACBAA\",\"AABCCCCCBAA\",\"AABBBBBBBAA\",\"AAAAAAAAAAA\"])"
   ]
  },
  {
   "cell_type": "code",
   "execution_count": 4,
   "metadata": {},
   "outputs": [
    {
     "data": {
      "text/plain": [
       "9"
      ]
     },
     "execution_count": 4,
     "metadata": {},
     "output_type": "execute_result"
    }
   ],
   "source": [
    "# 2. There are many different styles of music and many albums exhibit multiple\n",
    "# styles. Create a function that takes a list of musical styles from albums and\n",
    "# returns how many styles are unique.\n",
    "# Examples\n",
    "# unique_styles([\n",
    "# &quot;Dub,Dancehall&quot;,\n",
    "# &quot;Industrial,Heavy Metal&quot;,\n",
    "# &quot;Techno,Dubstep&quot;,\n",
    "# &quot;Synth-pop,Euro-Disco&quot;,\n",
    "# &quot;Industrial,Techno,Minimal&quot;\n",
    "# ]) ➞ 9\n",
    "# unique_styles([\n",
    "\n",
    "# &quot;Soul&quot;,\n",
    "# &quot;House,Folk&quot;,\n",
    "# &quot;Trance,Downtempo,Big Beat,House&quot;,\n",
    "# &quot;Deep House&quot;,\n",
    "# &quot;Soul&quot;\n",
    "# ]) ➞ 7\n",
    "\n",
    "def unique_styles(lst):\n",
    "    uplst = []\n",
    "    for i in lst:\n",
    "        uplst.extend(i.split(','))\n",
    "    return len(set(uplst))\n",
    "\n",
    "unique_styles(['Dub,Dancehall','Industrial,Heavy Metal','Techno,Dubstep','Synth-pop,Euro-Disc','Industrial,Techno,Minimal'])"
   ]
  },
  {
   "cell_type": "code",
   "execution_count": null,
   "metadata": {},
   "outputs": [],
   "source": [
    "# 3. Create a function that finds a target number in a list of prime numbers.\n",
    "# Implement a binary search algorithm in your function. The target number will\n",
    "# be from 2 through 97. If the target is prime then return &quot;yes&quot; else return &quot;no&quot;.\n",
    "# Examples\n",
    "# primes = [2, 3, 5, 7, 11, 13, 17, 19, 23, 29, 31, 37, 41, 43, 47, 53, 59, 61, 67,\n",
    "# 71, 73, 79, 83, 89, 97]\n",
    "\n",
    "# is_prime(primes, 3) ➞ &quot;yes&quot;\n",
    "# is_prime(primes, 4) ➞ &quot;no&quot;\n",
    "# is_prime(primes, 67) ➞ &quot;yes&quot;\n",
    "# is_prime(primes, 36) ➞ &quot;no&quot;\n",
    "\n",
    "primes = [2, 3, 5, 7, 11, 13, 17, 19, 23, 29, 31, 37, 41, 43, 47, 53, 59, 61, 67,71, 73, 79, 83, 89, 97]\n",
    "\n",
    "def is_prime(primes,item):\n",
    "    first = 0\n",
    "    last = len(primes)-1\n",
    "    while( first<=last ):\n",
    "        mid = (first + last)//2\n",
    "        if primes[mid] == item :\n",
    "            return 'Yes'\n",
    "        else:\n",
    "            if item < primes[mid]:\n",
    "                last = mid - 1\n",
    "            else:\n",
    "                first = mid + 1\t\n",
    "    return \"No\"\n",
    "\n",
    "is_prime(primes, 67)"
   ]
  },
  {
   "cell_type": "code",
   "execution_count": 6,
   "metadata": {},
   "outputs": [
    {
     "data": {
      "text/plain": [
       "3"
      ]
     },
     "execution_count": 6,
     "metadata": {},
     "output_type": "execute_result"
    }
   ],
   "source": [
    "# 4. Create a function that takes in n, a, b and returns the number of positive\n",
    "# values raised to the nth power that lie in the range [a, b], inclusive.\n",
    "# Examples\n",
    "# power_ranger(2, 49, 65) ➞ 2\n",
    "# # 2 squares (n^2) lie between 49 and 65, 49 (7^2) and 64 (8^2)\n",
    "# power_ranger(3, 1, 27) ➞ 3\n",
    "# # 3 cubes (n^3) lie between 1 and 27, 1 (1^3), 8 (2^3) and 27 (3^3)\n",
    "# power_ranger(10, 1, 5) ➞ 1\n",
    "# # 1 value raised to the 10th power lies between 1 and 5, 1 (1^10)\n",
    "# power_ranger(5, 31, 33) ➞ 1\n",
    "# power_ranger(4, 250, 1300) ➞ 3\n",
    "\n",
    "def power_ranger(n, min, max):\n",
    "    count = 0 \n",
    "    for i in range(max): \n",
    "        if i**n in range(min,max): \n",
    "            count += 1 \n",
    "    return count\n",
    "\n",
    "power_ranger(4, 250, 1300)"
   ]
  },
  {
   "cell_type": "code",
   "execution_count": 2,
   "metadata": {},
   "outputs": [
    {
     "data": {
      "text/plain": [
       "760833"
      ]
     },
     "execution_count": 2,
     "metadata": {},
     "output_type": "execute_result"
    }
   ],
   "source": [
    "# 5. Given a number, return the difference between the maximum and minimum\n",
    "# numbers that can be formed when the digits are rearranged.\n",
    "# Examples\n",
    "# rearranged_difference(972882) ➞ 760833\n",
    "# # 988722 - 227889 = 760833\n",
    "# rearranged_difference(3320707) ➞ 7709823\n",
    "# # 7733200 - 23377 = 7709823\n",
    "# rearranged_difference(90010) ➞ 90981\n",
    "# # 91000 - 19 = 90981\n",
    "\n",
    "def findMaxAndMin(num):\n",
    "    mini_list = sorted(list (str(num)))\n",
    "    maxi_list = reversed(mini_list)\n",
    "    mini = int(\"\".join(mini_list))\n",
    "    maxi = int(\"\".join(maxi_list))\n",
    "    return [mini , maxi]\n",
    "\n",
    "def rearranged_difference(num):\n",
    "    result = findMaxAndMin(num)\n",
    "    return result[1] - result[0]\n",
    "\n",
    "\n",
    "rearranged_difference(972882)"
   ]
  },
  {
   "cell_type": "code",
   "execution_count": null,
   "metadata": {},
   "outputs": [],
   "source": []
  }
 ],
 "metadata": {
  "kernelspec": {
   "display_name": "Python 3",
   "language": "python",
   "name": "python3"
  },
  "language_info": {
   "codemirror_mode": {
    "name": "ipython",
    "version": 3
   },
   "file_extension": ".py",
   "mimetype": "text/x-python",
   "name": "python",
   "nbconvert_exporter": "python",
   "pygments_lexer": "ipython3",
   "version": "3.8.5"
  }
 },
 "nbformat": 4,
 "nbformat_minor": 4
}
