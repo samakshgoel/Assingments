{
 "cells": [
  {
   "cell_type": "code",
   "execution_count": 1,
   "metadata": {},
   "outputs": [
    {
     "name": "stdout",
     "output_type": "stream",
     "text": [
      "Enter the number: 89\n",
      "89 is a Disarium Number\n"
     ]
    }
   ],
   "source": [
    "#1. Write a Python program to check if the given number is a Disarium Number?\n",
    "a = int(input(\"Enter the number: \"))\n",
    "b= list(str(a))\n",
    "sum =0\n",
    "for i in range(0,len(str(a))):\n",
    "    sum = int(b[i])**(i+1) + sum\n",
    "    \n",
    "if sum == a:\n",
    "    print(\"{} is a Disarium Number\".format(a))\n",
    "else:\n",
    "    print(\"{} is not a Disarium Number\".format(a))"
   ]
  },
  {
   "cell_type": "code",
   "execution_count": 2,
   "metadata": {},
   "outputs": [
    {
     "name": "stdout",
     "output_type": "stream",
     "text": [
      "1 is a Disarium Number\n",
      "2 is a Disarium Number\n",
      "3 is a Disarium Number\n",
      "4 is a Disarium Number\n",
      "5 is a Disarium Number\n",
      "6 is a Disarium Number\n",
      "7 is a Disarium Number\n",
      "8 is a Disarium Number\n",
      "9 is a Disarium Number\n",
      "89 is a Disarium Number\n"
     ]
    }
   ],
   "source": [
    "#2. Write a Python program to print all disarium numbers between 1 to 100?\n",
    "for j in range(1,101):\n",
    "    b = list(str(j))\n",
    "    sum = 0\n",
    "    for i in range(0,len(str(j))):\n",
    "        sum = int(b[i])**(i+1) + sum\n",
    "    if sum == j:\n",
    "        print(\"{} is a Disarium Number\".format(j))"
   ]
  },
  {
   "cell_type": "code",
   "execution_count": 3,
   "metadata": {},
   "outputs": [
    {
     "name": "stdout",
     "output_type": "stream",
     "text": [
      "Enter the number :86\n",
      "86 is a happy number\n"
     ]
    }
   ],
   "source": [
    "#3. Write a Python program to check if the given number is Happy Number?\n",
    "def check_happy_num(num):\n",
    "    remaining = sum_val = 0\n",
    "    while(num > 0):\n",
    "        remaining = num%10\n",
    "        sum_val = sum_val + (remaining*remaining)\n",
    "        num = num//10\n",
    "    return sum_val;\n",
    "input_num =int(input(\"Enter the number :\"))\n",
    "result = input_num\n",
    "\n",
    "while(result != 1 and result != 4):\n",
    "    result = check_happy_num(result);\n",
    "\n",
    "if(result == 1):\n",
    "    print(str(input_num) + \" is a happy number\");\n",
    "elif(result == 4):\n",
    "    print(str(my_num) + \" isn't a happy number\");"
   ]
  },
  {
   "cell_type": "code",
   "execution_count": 4,
   "metadata": {},
   "outputs": [
    {
     "name": "stdout",
     "output_type": "stream",
     "text": [
      "1\n",
      "7\n",
      "10\n",
      "13\n",
      "19\n",
      "23\n",
      "28\n",
      "31\n",
      "32\n",
      "44\n",
      "49\n",
      "68\n",
      "70\n",
      "79\n",
      "82\n",
      "86\n",
      "91\n",
      "94\n",
      "97\n",
      "100\n"
     ]
    }
   ],
   "source": [
    "#4. Write a Python program to print all happy numbers between 1 and 100?\n",
    "def check_happy_num(num):\n",
    "    remaining = sum_val = 0\n",
    "    while(num > 0):\n",
    "        remaining = num%10\n",
    "        sum_val = sum_val + (remaining*remaining)\n",
    "        num = num//10\n",
    "    return sum_val\n",
    "\n",
    "for i in range(1, 101):\n",
    "    result = i\n",
    "    while(result != 1 and result != 4):\n",
    "        result = check_happy_num(result)\n",
    "\n",
    "    if(result == 1):\n",
    "        print(i)"
   ]
  },
  {
   "cell_type": "code",
   "execution_count": 1,
   "metadata": {},
   "outputs": [
    {
     "name": "stdout",
     "output_type": "stream",
     "text": [
      "Enter number: 154\n",
      "154 is not a Harshad Number\n"
     ]
    }
   ],
   "source": [
    "#5. Write a Python program to determine whether the given number is a Harshad Number?\n",
    "number = int(input('Enter number: '))\n",
    "sum = 0\n",
    "for i in list(str(number)):\n",
    "    sum = sum + int(i)\n",
    "if number%sum == 0:\n",
    "    print(\"{} is Harshad Number\".format(number))\n",
    "else:\n",
    "    print(\"{} is not a Harshad Number\".format(number))"
   ]
  },
  {
   "cell_type": "code",
   "execution_count": 2,
   "metadata": {},
   "outputs": [
    {
     "name": "stdout",
     "output_type": "stream",
     "text": [
      "2 is prinoic number\n",
      "6 is prinoic number\n",
      "12 is prinoic number\n",
      "20 is prinoic number\n",
      "30 is prinoic number\n",
      "42 is prinoic number\n",
      "56 is prinoic number\n",
      "72 is prinoic number\n",
      "90 is prinoic number\n"
     ]
    }
   ],
   "source": [
    "#6. Write a Python program to print all pronic numbers between 1 and 100?\n",
    "for j in range(1,101):\n",
    "    for i in range(1,j+1):\n",
    "        if j == i*(i+1):\n",
    "            print(\"{} is prinoic number\".format(j))\n",
    "            break"
   ]
  },
  {
   "cell_type": "code",
   "execution_count": null,
   "metadata": {},
   "outputs": [],
   "source": []
  }
 ],
 "metadata": {
  "kernelspec": {
   "display_name": "Python 3",
   "language": "python",
   "name": "python3"
  },
  "language_info": {
   "codemirror_mode": {
    "name": "ipython",
    "version": 3
   },
   "file_extension": ".py",
   "mimetype": "text/x-python",
   "name": "python",
   "nbconvert_exporter": "python",
   "pygments_lexer": "ipython3",
   "version": "3.8.5"
  }
 },
 "nbformat": 4,
 "nbformat_minor": 4
}
