{
 "cells": [
  {
   "cell_type": "code",
   "execution_count": 1,
   "metadata": {},
   "outputs": [
    {
     "name": "stdout",
     "output_type": "stream",
     "text": [
      "Enter the number: 13\n",
      "0 1 1 2 3 5 8 13 21 34 55 89 144 "
     ]
    }
   ],
   "source": [
    "#1. Write a Python Program to Display Fibonacci Sequence Using Recursion?\n",
    "num = int(input(\"Enter the number: \"))\n",
    "a = 0\n",
    "b = 1\n",
    "add = 0\n",
    "l =[]\n",
    "def feb(num):\n",
    "    if num <= 1:\n",
    "        return num\n",
    "    else:\n",
    "        return feb(num-1) + feb(num-2)\n",
    "for i in range(num):\n",
    "    print(feb(i),end=\" \")"
   ]
  },
  {
   "cell_type": "code",
   "execution_count": 5,
   "metadata": {},
   "outputs": [
    {
     "name": "stdout",
     "output_type": "stream",
     "text": [
      "Enter the number: 5\n",
      "120\n"
     ]
    }
   ],
   "source": [
    "#2. Write a Python Program to Find Factorial of Number Using Recursion?\n",
    "num = int(input(\"Enter the number: \"))\n",
    "def fac(num):\n",
    "    if num>1:\n",
    "        return num* fac(num-1)\n",
    "    elif num==1 or num==0:\n",
    "        return num\n",
    "print(fac(num))   "
   ]
  },
  {
   "cell_type": "code",
   "execution_count": 7,
   "metadata": {},
   "outputs": [
    {
     "name": "stdout",
     "output_type": "stream",
     "text": [
      "Enter the weight in kgs: 67.7\n",
      "Enter the height in metres: 1.87\n",
      "Your BMI is  19.36000457548114\n"
     ]
    }
   ],
   "source": [
    "#3. Write a Python Program to calculate your Body Mass Index?\n",
    "weight = float(input(\"Enter the weight in kgs: \"))\n",
    "height = float(input(\"Enter the height in metres: \"))\n",
    "if height >0 and weight>0:\n",
    "    bmi = weight/height**2\n",
    "    print(\"Your BMI is \",bmi)\n",
    "else:\n",
    "    print(\"please enter positive parameters\")"
   ]
  },
  {
   "cell_type": "code",
   "execution_count": 8,
   "metadata": {},
   "outputs": [
    {
     "name": "stdout",
     "output_type": "stream",
     "text": [
      "Enter the number: 45\n",
      "3.8066624897703196\n"
     ]
    }
   ],
   "source": [
    "#4. Write a Python Program to calculate the natural logarithm of any number?\n",
    "import math\n",
    "num = int(input(\"Enter the number: \"))\n",
    "print(math.log(num))"
   ]
  },
  {
   "cell_type": "code",
   "execution_count": 13,
   "metadata": {},
   "outputs": [
    {
     "name": "stdout",
     "output_type": "stream",
     "text": [
      "Enter the number: 6\n",
      "Cube sum of first 6 is 441\n"
     ]
    }
   ],
   "source": [
    "#5. Write a Python Program for cube sum of first n natural numbers?\n",
    "num = int(input(\"Enter the number: \"))\n",
    "sum=0\n",
    "def SumOfCube(num):\n",
    "    \n",
    "    if num<=1:\n",
    "        return 1\n",
    "    c = num**3\n",
    "    return c + SumOfCube(num-1)\n",
    "print(\"Cube sum of first {} is {}\".format(num,SumOfCube(num)))"
   ]
  },
  {
   "cell_type": "code",
   "execution_count": null,
   "metadata": {},
   "outputs": [],
   "source": []
  }
 ],
 "metadata": {
  "kernelspec": {
   "display_name": "Python 3",
   "language": "python",
   "name": "python3"
  },
  "language_info": {
   "codemirror_mode": {
    "name": "ipython",
    "version": 3
   },
   "file_extension": ".py",
   "mimetype": "text/x-python",
   "name": "python",
   "nbconvert_exporter": "python",
   "pygments_lexer": "ipython3",
   "version": "3.8.5"
  }
 },
 "nbformat": 4,
 "nbformat_minor": 4
}
