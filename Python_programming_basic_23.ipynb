{
 "cells": [
  {
   "cell_type": "code",
   "execution_count": 1,
   "metadata": {},
   "outputs": [
    {
     "name": "stdout",
     "output_type": "stream",
     "text": [
      "Enter the number: 7227\n"
     ]
    },
    {
     "data": {
      "text/plain": [
       "True"
      ]
     },
     "execution_count": 1,
     "metadata": {},
     "output_type": "execute_result"
    }
   ],
   "source": [
    "# Question 1\n",
    "# Create a function that takes a number as an argument and returns True or False depending\n",
    "# on whether the number is symmetrical or not. A number is symmetrical when it is the same as\n",
    "# its reverse.\n",
    "# Examples\n",
    "# is_symmetrical(7227) ➞ True\n",
    "# is_symmetrical(12567) ➞ False\n",
    "# is_symmetrical(44444444) ➞ True\n",
    "# is_symmetrical(9939) ➞ False\n",
    "# is_symmetrical(1112111) ➞ True\n",
    "\n",
    "a = input(\"Enter the number: \")\n",
    "def is_symmetrical(a):\n",
    "    b = list(a)\n",
    "    a = list(a)\n",
    "    a.reverse()\n",
    "    if (a==b):\n",
    "        return True\n",
    "    else:\n",
    "        return False\n",
    "is_symmetrical(a)"
   ]
  },
  {
   "cell_type": "code",
   "execution_count": 2,
   "metadata": {},
   "outputs": [
    {
     "name": "stdout",
     "output_type": "stream",
     "text": [
      "Enter the string: 10,-2\n"
     ]
    },
    {
     "data": {
      "text/plain": [
       "-20"
      ]
     },
     "execution_count": 2,
     "metadata": {},
     "output_type": "execute_result"
    }
   ],
   "source": [
    "# Question 2\n",
    "# Given a string of numbers separated by a comma and space, return the product of the\n",
    "# numbers.\n",
    "# Examples\n",
    "# multiply_nums(&quot;2, 3&quot;) ➞ 6\n",
    "# multiply_nums(&quot;1, 2, 3, 4&quot;) ➞ 24\n",
    "# multiply_nums(&quot;54, 75, 453, 0&quot;) ➞ 0\n",
    "# multiply_nums(&quot;10, -2&quot;) ➞ -20\n",
    "\n",
    "my_str = input(\"Enter the string: \")\n",
    "def multipy_nums(a):\n",
    "    b = a.split(\",\")\n",
    "    res = 1\n",
    "    for i in b:\n",
    "        res = res*int(i)\n",
    "    return res\n",
    "multipy_nums(my_str)"
   ]
  },
  {
   "cell_type": "code",
   "execution_count": 3,
   "metadata": {},
   "outputs": [
    {
     "name": "stdout",
     "output_type": "stream",
     "text": [
      "Enter the number:9119\n"
     ]
    },
    {
     "data": {
      "text/plain": [
       "811181"
      ]
     },
     "execution_count": 3,
     "metadata": {},
     "output_type": "execute_result"
    }
   ],
   "source": [
    "# Question 3\n",
    "# Create a function that squares every digit of a number.\n",
    "# Examples\n",
    "# square_digits(9119) ➞ 811181\n",
    "# square_digits(2483) ➞ 416649\n",
    "# square_digits(3212) ➞ 9414\n",
    "# Notes\n",
    "# The function receives an integer and must return an integer.\n",
    "\n",
    "a = int(input(\"Enter the number:\"))\n",
    "def square_digits(a):\n",
    "    b = list(str(a))\n",
    "    result = []\n",
    "    for i in b:\n",
    "        result.append(str(int(i)**2))\n",
    "    return int(\"\".join(result))\n",
    "square_digits(a)        "
   ]
  },
  {
   "cell_type": "code",
   "execution_count": 4,
   "metadata": {},
   "outputs": [
    {
     "name": "stdout",
     "output_type": "stream",
     "text": [
      "Enter the numbers seprated by commas: 1,1,2,4,1,2,4\n"
     ]
    },
    {
     "data": {
      "text/plain": [
       "[1, 2, 4]"
      ]
     },
     "execution_count": 4,
     "metadata": {},
     "output_type": "execute_result"
    }
   ],
   "source": [
    "# Question 4\n",
    "# Create a function that sorts a list and removes all duplicate items from it.\n",
    "# Examples\n",
    "# setify([1, 3, 3, 5, 5]) ➞ [1, 3, 5]\n",
    "# setify([4, 4, 4, 4]) ➞ [4]\n",
    "# setify([5, 7, 8, 9, 10, 15]) ➞ [5, 7, 8, 9, 10, 15]\n",
    "# setify([3, 3, 3, 2, 1]) ➞ [1, 2, 3]\n",
    "\n",
    "\n",
    "a = input(\"Enter the numbers seprated by commas: \").split(\",\")\n",
    "\n",
    "def setify(a):\n",
    "    res=[]\n",
    "    for i in a:\n",
    "        if int(i) not in res:\n",
    "            res.append(int(i))\n",
    "    res.sort()\n",
    "    return res\n",
    "\n",
    "        \n",
    "setify(a)"
   ]
  },
  {
   "cell_type": "code",
   "execution_count": null,
   "metadata": {},
   "outputs": [],
   "source": [
    "# Question 5\n",
    "# Create a function that returns the mean of all digits.\n",
    "# Examples\n",
    "# mean(42) ➞ 3\n",
    "# mean(12345) ➞ 3\n",
    "# mean(666) ➞ 6\n",
    "# Notes\n",
    "#  The mean of all digits is the sum of digits / how many digits there are (e.g. mean of digits in\n",
    "# 512 is (5+1+2)/3(number of digits) = 8/3=2).\n",
    "#  The mean will always be an integer.\n",
    "\n",
    "my_num = int(input(\"Enter the number\"))\n",
    "def mean(a):\n",
    "    a = list(str(a))\n",
    "    sum = 0\n",
    "    for i in a:\n",
    "        sum += int(i)\n",
    "    return sum/len(a)\n",
    "mean(my_num)"
   ]
  }
 ],
 "metadata": {
  "kernelspec": {
   "display_name": "Python 3",
   "language": "python",
   "name": "python3"
  },
  "language_info": {
   "codemirror_mode": {
    "name": "ipython",
    "version": 3
   },
   "file_extension": ".py",
   "mimetype": "text/x-python",
   "name": "python",
   "nbconvert_exporter": "python",
   "pygments_lexer": "ipython3",
   "version": "3.8.5"
  }
 },
 "nbformat": 4,
 "nbformat_minor": 4
}
