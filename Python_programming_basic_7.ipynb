{
 "cells": [
  {
   "cell_type": "code",
   "execution_count": 4,
   "metadata": {},
   "outputs": [
    {
     "name": "stdout",
     "output_type": "stream",
     "text": [
      "enter the size of the number: 5\n",
      "enter the number in the array: 1\n",
      "enter the number in the array: 2\n",
      "enter the number in the array: 3\n",
      "enter the number in the array: 4\n",
      "enter the number in the array: 5\n",
      "Sum of the elements of array is  15\n"
     ]
    }
   ],
   "source": [
    "#1. Write a Python Program to find sum of array?\n",
    "array = []\n",
    "size = int(input(\"enter the size of the number: \"))\n",
    "sum = 0\n",
    "for i in range(size):\n",
    "    elements = int(input(\"enter the number in the array: \"))\n",
    "    array.append(elements)\n",
    "\n",
    "for i in array:\n",
    "    sum+=i\n",
    "print(\"Sum of the elements of array is \",sum)\n",
    "    \n",
    "\n"
   ]
  },
  {
   "cell_type": "code",
   "execution_count": 3,
   "metadata": {},
   "outputs": [
    {
     "name": "stdout",
     "output_type": "stream",
     "text": [
      "enter the size of the number: 5\n",
      "enter the number in the array: 120\n",
      "enter the number in the array: 952\n",
      "enter the number in the array: 118\n",
      "enter the number in the array: 545\n",
      "enter the number in the array: 26\n",
      "largest number in the given array is : 952\n"
     ]
    }
   ],
   "source": [
    "#2. Write a Python Program to find largest element in an array?\n",
    "array = []\n",
    "size = int(input(\"enter the size of the number: \"))\n",
    "for i in range(size):\n",
    "    elements = int(input(\"enter the number in the array: \"))\n",
    "    array.append(elements)\n",
    "#1st method   \n",
    "array.sort()\n",
    "print(\"largest number in the given array is :\",array[-1])\n",
    "\n",
    "#2nd method\n",
    "maxi = array[0]\n",
    "for i in range(1,size):\n",
    "    if array[i]>maxi:\n",
    "        maxi = array[i]\n",
    "print(\"largest number in the given array is :\",maxi)       "
   ]
  },
  {
   "cell_type": "code",
   "execution_count": 7,
   "metadata": {},
   "outputs": [
    {
     "name": "stdout",
     "output_type": "stream",
     "text": [
      "enter the size of the number: 5\n",
      "enter the number in the array: 120\n",
      "enter the number in the array: 44\n",
      "enter the number in the array: 56\n",
      "enter the number in the array: 1\n",
      "enter the number in the array: 2\n",
      "Orginal array : [120, 44, 56, 1, 2]\n",
      "Rotated array : [2, 1, 56, 44, 120]\n"
     ]
    }
   ],
   "source": [
    "#3. Write a Python Program for array rotation?\n",
    "array = []\n",
    "rotated = []\n",
    "size = int(input(\"enter the size of the number: \"))\n",
    "for i in range(size):\n",
    "    elements = int(input(\"enter the number in the array: \"))\n",
    "    array.append(elements)\n",
    "for i in array[::-1]:\n",
    "    rotated.append(i)\n",
    "print(\"Orginal array :\" ,array)\n",
    "print(\"Rotated array :\",rotated)\n"
   ]
  },
  {
   "cell_type": "code",
   "execution_count": 8,
   "metadata": {},
   "outputs": [
    {
     "name": "stdout",
     "output_type": "stream",
     "text": [
      "enter the size of the number: 5\n",
      "enter the number in the array: 124\n",
      "enter the number in the array: 56\n",
      "enter the number in the array: 48\n",
      "enter the number in the array: 51\n",
      "enter the number in the array: 2\n",
      "Original Array :  [124, 56, 48, 51, 2]\n",
      "Array after spliting :  [51, 2, 124, 56, 48]\n"
     ]
    }
   ],
   "source": [
    "#4. Write a Python Program to Split the array and add the first part to the end?\n",
    "arr = []\n",
    "size = int(input(\"enter the size of the number: \"))\n",
    "for i in range(size):\n",
    "    elements = int(input(\"enter the number in the array: \"))\n",
    "    arr.append(elements)\n",
    "length = len(arr)\n",
    "half = length//2\n",
    "temp =[]\n",
    "print(\"Original Array : \",arr)\n",
    "for i in arr[0:half+1]:\n",
    "    temp.append(i)\n",
    "    arr.remove(i)\n",
    "    continue\n",
    "for i in temp:\n",
    "    arr.append(i)\n",
    "\n",
    "print(\"Array after spliting : \",arr)\n"
   ]
  },
  {
   "cell_type": "code",
   "execution_count": 9,
   "metadata": {},
   "outputs": [
    {
     "name": "stdout",
     "output_type": "stream",
     "text": [
      "enter the size of the number: 5\n",
      "enter the number in the array: 124\n",
      "enter the number in the array: 56\n",
      "enter the number in the array: 48\n",
      "enter the number in the array: 31\n",
      "enter the number in the array: 2\n",
      "Decreasing Monotonic\n"
     ]
    }
   ],
   "source": [
    "#5. Write a Python Program to check if given array is Monotonic?\n",
    "A = []\n",
    "size = int(input(\"enter the size of the number: \"))\n",
    "for i in range(size):\n",
    "    elements = int(input(\"enter the number in the array: \"))\n",
    "    A.append(elements)\n",
    "increasing = True\n",
    "decreasing = True\n",
    "for i in range(1,len(A)-1):\n",
    "    if A[i]>A[i-1]:\n",
    "        decreasing = False\n",
    "    elif A[i]<A[i-1]:\n",
    "        increasing = False\n",
    "if increasing==True:\n",
    "    print(\"Increasing Monotonic\")\n",
    "elif  decreasing==True:\n",
    "    print(\"Decreasing Monotonic\")\n",
    "else:\n",
    "    print(\"No Monotonic\")"
   ]
  },
  {
   "cell_type": "code",
   "execution_count": null,
   "metadata": {},
   "outputs": [],
   "source": []
  }
 ],
 "metadata": {
  "kernelspec": {
   "display_name": "Python 3",
   "language": "python",
   "name": "python3"
  },
  "language_info": {
   "codemirror_mode": {
    "name": "ipython",
    "version": 3
   },
   "file_extension": ".py",
   "mimetype": "text/x-python",
   "name": "python",
   "nbconvert_exporter": "python",
   "pygments_lexer": "ipython3",
   "version": "3.8.5"
  }
 },
 "nbformat": 4,
 "nbformat_minor": 4
}
