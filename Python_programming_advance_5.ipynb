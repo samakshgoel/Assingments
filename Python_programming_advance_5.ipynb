{
 "cells": [
  {
   "cell_type": "code",
   "execution_count": 1,
   "metadata": {},
   "outputs": [
    {
     "data": {
      "text/plain": [
       "8"
      ]
     },
     "execution_count": 1,
     "metadata": {},
     "output_type": "execute_result"
    }
   ],
   "source": [
    "# 1. Create a function that takes a number n (integer greater than zero) as an\n",
    "# argument, and returns 2 if n is odd and 8 if n is even.\n",
    "# You can only use the following arithmetic operators: addition of numbers +,\n",
    "# subtraction of numbers -, multiplication of number *, division of number /, and\n",
    "# exponentiation **.\n",
    "# You are not allowed to use any other methods in this challenge (i.e. no if\n",
    "# statements, comparison operators, etc).\n",
    "# Examples\n",
    "# f(1) ➞ 2\n",
    "# f(2) ➞ 8\n",
    "# f(3) ➞ 2\n",
    "\n",
    "def f(num):\n",
    "    evenOddList = [8,2]\n",
    "    return evenOddList[num & 1]\n",
    "f(2)"
   ]
  },
  {
   "cell_type": "code",
   "execution_count": 2,
   "metadata": {},
   "outputs": [
    {
     "data": {
      "text/plain": [
       "'None'"
      ]
     },
     "execution_count": 2,
     "metadata": {},
     "output_type": "execute_result"
    }
   ],
   "source": [
    "# 2. Create a function that returns the majority vote in a list. A majority vote is\n",
    "# an element that occurs &gt; N/2 times in a list (where N is the length of the list).\n",
    "# Examples\n",
    "# majority_vote([&quot;A&quot;, &quot;A&quot;, &quot;B&quot;]) ➞ &quot;A&quot;\n",
    "# majority_vote([&quot;A&quot;, &quot;A&quot;, &quot;A&quot;, &quot;B&quot;, &quot;C&quot;, &quot;A&quot;]) ➞ &quot;A&quot;\n",
    "# majority_vote([&quot;A&quot;, &quot;B&quot;, &quot;B&quot;, &quot;A&quot;, &quot;C&quot;, &quot;C&quot;]) ➞ None\n",
    "\n",
    "def majority_vote(arr):\n",
    "    obj = {}\n",
    "    for i in arr:\n",
    "        if(obj.get(i)):\n",
    "            obj[i] += 1\n",
    "            if(obj[i]>len(arr)/2):\n",
    "                return i\n",
    "        else:\n",
    "            obj[i] = 1\n",
    "    return \"None\"\n",
    "majority_vote([\"A\",\"A\",\"B\",\"B\",\"C\",\"C\"])"
   ]
  },
  {
   "cell_type": "code",
   "execution_count": 3,
   "metadata": {},
   "outputs": [
    {
     "data": {
      "text/plain": [
       "['-----', 'is', '-', 'Wednesday!']"
      ]
     },
     "execution_count": 3,
     "metadata": {},
     "output_type": "execute_result"
    }
   ],
   "source": [
    "# 3. Create a function that takes a string txt and censors any word from a given\n",
    "# list lst. The text removed must be replaced by the given character char.\n",
    "# Examples\n",
    "# censor_string(&quot;Today is a Wednesday!&quot;, [&quot;Today&quot;, &quot;a&quot;], &quot;-&quot;) ➞ &quot;----- is -\n",
    "# Wednesday!&quot;\n",
    "# censor_string(&quot;The cow jumped over the moon.&quot;, [&quot;cow&quot;, &quot;over&quot;], &quot;*&quot;), &quot;The ***\n",
    "# jumped **** the moon.&quot;)\n",
    "# censor_string(&quot;Why did the chicken cross the road?&quot;, [&quot;Did&quot;, &quot;chicken&quot;,\n",
    "# &quot;road&quot;], &quot;*&quot;) ➞ &quot;Why *** the ******* cross the ****?&quot;\n",
    "\n",
    "\n",
    "def censor_string(text,censorWords,specailChar):\n",
    "    wordlist = text.split()\n",
    "    for i in range(len(wordlist)):\n",
    "        if wordlist[i] in censorWords:\n",
    "            length = len(wordlist[i])\n",
    "            wordlist[i] = length* specailChar\n",
    "    return wordlist\n",
    "\n",
    "censor_string(\"Today is a Wednesday!\", [\"Today\", \"a\"], \"-\")"
   ]
  },
  {
   "cell_type": "code",
   "execution_count": 1,
   "metadata": {},
   "outputs": [
    {
     "data": {
      "text/plain": [
       "False"
      ]
     },
     "execution_count": 1,
     "metadata": {},
     "output_type": "execute_result"
    }
   ],
   "source": [
    "# 4. In mathematics a Polydivisible Number (or magic number) is a number in a\n",
    "# given number base with digits abcde... that has the following properties:\n",
    "# - Its first digit a is not 0.\n",
    "# - The number formed by its first two digits ab is a multiple of 2.\n",
    "# - The number formed by its first three digits abc is a multiple of 3.\n",
    "# - The number formed by its first four digits abcd is a multiple of 4.\n",
    "# Create a function which takes an integer n and returns True if the given\n",
    "# number is a Polydivisible Number and False otherwise.\n",
    "# Examples\n",
    "# is_polydivisible(1232) ➞ True\n",
    "# # 1 / 1 = 1\n",
    "# # 12 / 2 = 6\n",
    "# # 123 / 3 = 41\n",
    "# # 1232 / 4 = 308\n",
    "# is_polydivisible(123220 ) ➞ False\n",
    "# # 1 / 1 = 1\n",
    "# # 12 / 2 = 6\n",
    "# # 123 / 3 = 41\n",
    "# # 1232 / 4 = 308\n",
    "# # 12322 / 5 = 2464.4 # Not a Whole Number\n",
    "# # 123220 /6 = 220536.333... # Not a Whole Number\n",
    "\n",
    "def is_polydivisible(num):\n",
    "    count = \"\"\n",
    "    num = str(num)\n",
    "    for i in range(len(num)):\n",
    "        count += num[i]\n",
    "        if(int(count)%(i+1) != 0):\n",
    "            return False\n",
    "    return True\n",
    "\n",
    "is_polydivisible(123220)"
   ]
  },
  {
   "cell_type": "code",
   "execution_count": 2,
   "metadata": {},
   "outputs": [
    {
     "data": {
      "text/plain": [
       "17"
      ]
     },
     "execution_count": 2,
     "metadata": {},
     "output_type": "execute_result"
    }
   ],
   "source": [
    "# 5. Create a function that takes a list of numbers and returns the sum of all\n",
    "# prime numbers in the list.\n",
    "# Examples\n",
    "# sum_primes([1, 2, 3, 4, 5, 6, 7, 8, 9, 10]) ➞ 17\n",
    "# sum_primes([2, 3, 4, 11, 20, 50, 71]) ➞ 87\n",
    "# sum_primes([]) ➞ None\n",
    "\n",
    "import math\n",
    "def is_prime(n):\n",
    "    if n <= 1:\n",
    "        return False\n",
    "    else:\n",
    "        for i in range(2, int(math.sqrt(n)) + 1):\n",
    "            if n % i == 0:\n",
    "                return False\n",
    "        return True\n",
    "    \n",
    "def sum_primes(arr):\n",
    "    count = 0\n",
    "    for i in arr:\n",
    "        if(is_prime(i)):\n",
    "            count += i\n",
    "    if(count == 0):\n",
    "        return \"None\"\n",
    "    else:\n",
    "        return count\n",
    "    \n",
    "sum_primes([1, 2, 3, 4, 5, 6, 7, 8, 9, 10])"
   ]
  },
  {
   "cell_type": "code",
   "execution_count": null,
   "metadata": {},
   "outputs": [],
   "source": []
  }
 ],
 "metadata": {
  "kernelspec": {
   "display_name": "Python 3",
   "language": "python",
   "name": "python3"
  },
  "language_info": {
   "codemirror_mode": {
    "name": "ipython",
    "version": 3
   },
   "file_extension": ".py",
   "mimetype": "text/x-python",
   "name": "python",
   "nbconvert_exporter": "python",
   "pygments_lexer": "ipython3",
   "version": "3.8.5"
  }
 },
 "nbformat": 4,
 "nbformat_minor": 4
}
