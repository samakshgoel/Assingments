{
 "cells": [
  {
   "cell_type": "code",
   "execution_count": 1,
   "metadata": {},
   "outputs": [
    {
     "name": "stdout",
     "output_type": "stream",
     "text": [
      "Enter the equation : 12 // 0\n"
     ]
    },
    {
     "data": {
      "text/plain": [
       "-1"
      ]
     },
     "execution_count": 1,
     "metadata": {},
     "output_type": "execute_result"
    }
   ],
   "source": [
    "# 1. Create a function to perform basic arithmetic operations that includes\n",
    "# addition, subtraction, multiplication and division on a string number (e.g. &quot;12 +\n",
    "# 24&quot; or &quot;23 - 21&quot; or &quot;12 // 12&quot; or &quot;12 * 21&quot;).\n",
    "# Here, we have 1 followed by a space, operator followed by another space\n",
    "# and 2. For the challenge, we are going to have only two numbers between 1\n",
    "# valid operator. The return value should be a number.\n",
    "# eval() is not allowed. In case of division, whenever the second number equals\n",
    "# &quot;0&quot; return -1.\n",
    "# For example:\n",
    "# &quot;15 // 0&quot; ➞ -1\n",
    "# Examples\n",
    "# arithmetic_operation(&quot;12 + 12&quot;) ➞ 24 // 12 + 12 = 24\n",
    "# arithmetic_operation(&quot;12 - 12&quot;) ➞ 24 // 12 - 12 = 0\n",
    "# arithmetic_operation(&quot;12 * 12&quot;) ➞ 144 // 12 * 12 = 144\n",
    "# arithmetic_operation(&quot;12 // 0&quot;) ➞ -1 // 12 / 0 = -1\n",
    "\n",
    "import operator\n",
    "a = input(\"Enter the equation : \").split(\" \")\n",
    "\n",
    "def arithmetic_operation(a):\n",
    "    ops = {\"+\":operator.add, \"-\": operator.sub, \"*\":operator.mul, \"//\":operator.truediv}\n",
    "    \n",
    "    \n",
    "    if(int(a[2])==0 and a[1] == \"//\"):\n",
    "        \n",
    "        return -1\n",
    "    res = ops[a[1]](int(a[0]),int(a[2]))\n",
    "    return res\n",
    "\n",
    "arithmetic_operation(a)"
   ]
  },
  {
   "cell_type": "code",
   "execution_count": 2,
   "metadata": {},
   "outputs": [
    {
     "data": {
      "text/plain": [
       "3.41"
      ]
     },
     "execution_count": 2,
     "metadata": {},
     "output_type": "execute_result"
    }
   ],
   "source": [
    "# 2. Write a function that takes the coordinates of three points in the form of a\n",
    "# 2d array and returns the perimeter of the triangle. The given points are the\n",
    "# vertices of a triangle on a two-dimensional plane.\n",
    "# Examples\n",
    "# perimeter( [ [15, 7], [5, 22], [11, 1] ] ) ➞ 47.08\n",
    "# perimeter( [ [0, 0], [0, 1], [1, 0] ] ) ➞ 3.42\n",
    "# perimeter( [ [-10, -10], [10, 10 ], [-10, 10] ] ) ➞ 68.28\n",
    "\n",
    "a = [ [0, 0], [0, 1], [1, 0] ]\n",
    "def perimeter(a):\n",
    "    result = 0\n",
    "    for i in range(0,len(a)) :\n",
    "        result = result + (((a[i][0]) - (a[i-1][0]))**2 + ((a[i][1]) - (a[i-1][1]))**2)**0.5\n",
    "    return round(result,2)\n",
    "perimeter(a)"
   ]
  },
  {
   "cell_type": "code",
   "execution_count": 3,
   "metadata": {},
   "outputs": [
    {
     "data": {
      "text/plain": [
       "2"
      ]
     },
     "execution_count": 3,
     "metadata": {},
     "output_type": "execute_result"
    }
   ],
   "source": [
    "# 3. A city skyline can be represented as a 2-D list with 1s representing\n",
    "# buildings. In the example below, the height of the tallest building is 4 (second-\n",
    "# most right column).\n",
    "# [[0, 0, 0, 0, 0, 0],\n",
    "# [0, 0, 0, 0, 1, 0],\n",
    "# [0, 0, 1, 0, 1, 0],\n",
    "# [0, 1, 1, 1, 1, 0],\n",
    "\n",
    "# [1, 1, 1, 1, 1, 1]]\n",
    "# Create a function that takes a skyline (2-D list of 0&#39;s and 1&#39;s) and returns the\n",
    "# height of the tallest skyscraper.\n",
    "\n",
    "a = [\n",
    "[0, 0, 0, 0],\n",
    "[0, 0, 0, 0],\n",
    "[1, 1, 1, 0],\n",
    "[1, 1, 1, 1]\n",
    "]\n",
    "def tallest_skyscraper(a):\n",
    "    res = []\n",
    "    for i in range(len(a)):\n",
    "        res.append([])\n",
    "        for j in range(len(a)):\n",
    "            res[i].append(a[j][i])\n",
    "    result = 0\n",
    "    for i in res:\n",
    "        if i.count(1)>result:\n",
    "            result = i.count(1)\n",
    "        \n",
    "    return result\n",
    "tallest_skyscraper(a)"
   ]
  },
  {
   "cell_type": "code",
   "execution_count": 1,
   "metadata": {},
   "outputs": [
    {
     "name": "stdout",
     "output_type": "stream",
     "text": [
      "Enter the numbers :37\n"
     ]
    },
    {
     "data": {
      "text/plain": [
       "1625"
      ]
     },
     "execution_count": 1,
     "metadata": {},
     "output_type": "execute_result"
    }
   ],
   "source": [
    "# 4. A financial institution provides professional services to banks and claims\n",
    "# charges from the customers based on the number of man-days provided.\n",
    "# Internally, it has set a scheme to motivate and reward staff to meet and\n",
    "# exceed targeted billable utilization and revenues by paying a bonus for each\n",
    "# day claimed from customers in excess of a threshold target.\n",
    "# This quarterly scheme is calculated with a threshold target of 32 days per\n",
    "# quarter, and the incentive payment for each billable day in excess of such\n",
    "# threshold target is shown as follows:\n",
    "# Days Bonus\n",
    "# 0 to 32 days Zero\n",
    "# 33 to 40 days SGD$325 per billable day\n",
    "# 41 to 48 days SGD$550 per billable day\n",
    "# Greater than 48 days SGD$600 per billable day\n",
    "\n",
    "# Please note that incentive payment is calculated progressively. As an\n",
    "# example, if an employee reached total billable days of 45 in a quarter, his/her\n",
    "# incentive payment is computed as follows:\n",
    "# 32*0 + 8*325 + 5*550 = 5350\n",
    "# Write a function to read the billable days of an employee and return the bonus\n",
    "# he/she has obtained in that quarter.\n",
    "# Examples\n",
    "# bonus(15) ➞ 0\n",
    "# bonus(37) ➞ 1625\n",
    "# bonus(50) ➞ 8200\n",
    "\n",
    "\n",
    "myDays = int(input(\"Enter the numbers :\"))\n",
    "def bonus(a):\n",
    "    d = {0:0,32:325,40:550,47:600}\n",
    "    v = list(d.values())\n",
    "    k = list(d.keys())\n",
    "    result = 0\n",
    "    for i in range(len(d.keys())-1,-1,-1):\n",
    "        if(a>=0 and a>k[i]):\n",
    "            a = a - k[i]\n",
    "            result = result + a*v[i]\n",
    "            a = k[i]\n",
    "    return result\n",
    "\n",
    "bonus(myDays)"
   ]
  },
  {
   "cell_type": "code",
   "execution_count": 1,
   "metadata": {},
   "outputs": [
    {
     "name": "stdout",
     "output_type": "stream",
     "text": [
      "Enter the number: 518\n"
     ]
    },
    {
     "data": {
      "text/plain": [
       "True"
      ]
     },
     "execution_count": 1,
     "metadata": {},
     "output_type": "execute_result"
    }
   ],
   "source": [
    "# 5. A number is said to be Disarium if the sum of its digits raised to their\n",
    "# respective positions is the number itself.\n",
    "# Create a function that determines whether a number is a Disarium or not.\n",
    "# Examples\n",
    "# is_disarium(75) ➞ False\n",
    "# # 7^1 + 5^2 = 7 + 25 = 32\n",
    "# is_disarium(135) ➞ True\n",
    "# # 1^1 + 3^2 + 5^3 = 1 + 9 + 125 = 135\n",
    "# is_disarium(544) ➞ False\n",
    "# is_disarium(518) ➞ True\n",
    "# is_disarium(466) ➞ False\n",
    "# is_disarium(8) ➞ True\n",
    "\n",
    "myNum = int(input(\"Enter the number: \"))\n",
    "def is_disarium(a):\n",
    "    myList = list(str(a))\n",
    "    res = 0\n",
    "    for i in range(1,len(myList)+1):\n",
    "        res = res + int(myList[i-1])**i\n",
    "    if(a==res):\n",
    "        return True\n",
    "    return False\n",
    "is_disarium(myNum)"
   ]
  }
 ],
 "metadata": {
  "kernelspec": {
   "display_name": "Python 3",
   "language": "python",
   "name": "python3"
  },
  "language_info": {
   "codemirror_mode": {
    "name": "ipython",
    "version": 3
   },
   "file_extension": ".py",
   "mimetype": "text/x-python",
   "name": "python",
   "nbconvert_exporter": "python",
   "pygments_lexer": "ipython3",
   "version": "3.8.5"
  }
 },
 "nbformat": 4,
 "nbformat_minor": 4
}
